{
 "cells": [
  {
   "cell_type": "markdown",
   "metadata": {},
   "source": [
    "![](https://scikit-learn.org/stable/_images/grid_search_workflow.png)"
   ]
  },
  {
   "cell_type": "code",
   "execution_count": 565,
   "metadata": {},
   "outputs": [],
   "source": [
    "import numpy as np\n",
    "import pandas as pd\n",
    "\n",
    "import pickle\n",
    "\n",
    "from sklearn.datasets import make_classification\n",
    "from sklearn.pipeline import Pipeline\n",
    "from sklearn.preprocessing import LabelEncoder\n",
    "from sklearn.model_selection import GridSearchCV\n",
    "from sklearn.model_selection import train_test_split\n",
    "from sklearn.model_selection import StratifiedKFold\n",
    "from sklearn.metrics import accuracy_score, f1_score, roc_auc_score, precision_score, recall_score, matthews_corrcoef, precision_recall_curve, auc\n",
    "\n",
    "from keras.utils import np_utils\n",
    "\n",
    "import torch\n",
    "from torch import nn\n",
    "import torch.nn.functional as F\n",
    "from torch.utils.data import TensorDataset\n",
    "from torch.utils.data import Dataset\n",
    "from torch.utils.data import DataLoader\n",
    "from torch.utils.tensorboard import SummaryWriter\n",
    "from torch.optim import SGD\n",
    "\n",
    "from skorch import NeuralNetClassifier\n",
    "from skorch.callbacks import EpochScoring\n",
    "from skorch.callbacks import TensorBoard"
   ]
  },
  {
   "cell_type": "code",
   "execution_count": 566,
   "metadata": {},
   "outputs": [],
   "source": [
    "# import configurations (file paths, etc.)\n",
    "import yaml\n",
    "try:\n",
    "    from yaml import CLoader as Loader, CDumper as Dumper\n",
    "except ImportError:\n",
    "    from yaml import Loader, Dumper\n",
    "    \n",
    "configFile = '../cluster/data/medinfmk/ddi/config/config.yml'\n",
    "\n",
    "with open(configFile, 'r') as ymlfile:\n",
    "    cfg = yaml.load(ymlfile, Loader=Loader)"
   ]
  },
  {
   "cell_type": "code",
   "execution_count": 567,
   "metadata": {},
   "outputs": [],
   "source": [
    "pathInput = cfg['filePaths']['dirRaw']\n",
    "pathOutput = cfg['filePaths']['dirProcessed']\n",
    "# path to store python binary files (pickles)\n",
    "# in order not to recalculate them every time\n",
    "pathPickles = cfg['filePaths']['dirProcessedFiles']['dirPickles']\n",
    "pathRuns = cfg['filePaths']['dirProcessedFiles']['dirRuns']\n",
    "pathPaperScores = cfg['filePaths']['dirRawFiles']['paper-individual-metrics-scores']\n",
    "datasetDirs = cfg['filePaths']['dirRawDatasets']\n",
    "DS1_path = str(datasetDirs[0])"
   ]
  },
  {
   "cell_type": "markdown",
   "metadata": {},
   "source": [
    "# Helper Functions"
   ]
  },
  {
   "cell_type": "code",
   "execution_count": 568,
   "metadata": {},
   "outputs": [],
   "source": [
    "def prepare_data(input_fea, input_lab, seperate=False):\n",
    "    offside_sim_path = input_fea\n",
    "    drug_interaction_matrix_path = input_lab\n",
    "    drug_fea = np.loadtxt(offside_sim_path,dtype=float,delimiter=\",\")\n",
    "    interaction = np.loadtxt(drug_interaction_matrix_path,dtype=int,delimiter=\",\")\n",
    "    \n",
    "    train = []\n",
    "    label = []\n",
    "    tmp_fea=[]\n",
    "    drug_fea_tmp = []\n",
    "            \n",
    "    for i in range(0, (interaction.shape[0]-1)):\n",
    "        for j in range((i+1), interaction.shape[1]):\n",
    "            label.append(interaction[i,j])\n",
    "            drug_fea_tmp_1 = list(drug_fea[i])\n",
    "            drug_fea_tmp_2 = list(drug_fea[j])\n",
    "            if seperate:\n",
    "                 tmp_fea = (drug_fea_tmp_1,drug_fea_tmp_2)\n",
    "            else:\n",
    "                 tmp_fea = drug_fea_tmp_1 + drug_fea_tmp_2\n",
    "            train.append(tmp_fea)\n",
    "\n",
    "    return np.array(train), np.array(label)"
   ]
  },
  {
   "cell_type": "code",
   "execution_count": 569,
   "metadata": {},
   "outputs": [],
   "source": [
    "def transfer_array_format(data):\n",
    "    formated_matrix1 = []\n",
    "    formated_matrix2 = []\n",
    "    for val in data:\n",
    "        formated_matrix1.append(val[0])\n",
    "        formated_matrix2.append(val[1])\n",
    "    return np.array(formated_matrix1), np.array(formated_matrix2)"
   ]
  },
  {
   "cell_type": "code",
   "execution_count": 570,
   "metadata": {},
   "outputs": [],
   "source": [
    "def preprocess_labels(labels, encoder=None, categorical=True):\n",
    "    if not encoder:\n",
    "        encoder = LabelEncoder()\n",
    "        encoder.fit(labels)\n",
    "        y = encoder.transform(labels).astype(np.int32)\n",
    "    if categorical:\n",
    "        y = np_utils.to_categorical(y)\n",
    "        print(y)\n",
    "    return y, encoder"
   ]
  },
  {
   "cell_type": "code",
   "execution_count": 571,
   "metadata": {},
   "outputs": [],
   "source": [
    "def preprocess_names(labels, encoder=None, categorical=True):\n",
    "    if not encoder:\n",
    "        encoder = LabelEncoder()\n",
    "        encoder.fit(labels)\n",
    "    if categorical:\n",
    "        labels = np_utils.to_categorical(labels)\n",
    "    return labels, encoder"
   ]
  },
  {
   "cell_type": "code",
   "execution_count": 572,
   "metadata": {},
   "outputs": [],
   "source": [
    "def do_stratifiedKFold(X,y,n_splits):\n",
    "    skf = StratifiedKFold(n_splits=n_splits)\n",
    "    skf.get_n_splits(X, y)\n",
    "    for train_index, test_index in skf.split(X, y):\n",
    "        X_train, X_test = X[train_index], X[test_index]\n",
    "        y_train, y_test = y[train_index], y[test_index]\n",
    "    return X_train, X_test, y_train, y_test"
   ]
  },
  {
   "cell_type": "code",
   "execution_count": 573,
   "metadata": {},
   "outputs": [],
   "source": [
    "class NDD(nn.Module):\n",
    "    def __init__(self, D_in=123, H1=300, H2=400, D_out=2, drop=0.5):\n",
    "        super(NDD, self).__init__()\n",
    "        # an affine operation: y = Wx + b\n",
    "        self.fc1 = nn.Linear(D_in, H1) # Fully Connected\n",
    "        self.fc2 = nn.Linear(H1, H2)\n",
    "        self.fc3 = nn.Linear(H2, D_out)\n",
    "        self.drop = nn.Dropout(drop)\n",
    "\n",
    "    def forward(self, x):\n",
    "        x = F.relu(self.fc1(x))\n",
    "        x = self.drop(x)\n",
    "        x = F.relu(self.fc2(x))\n",
    "        x = self.drop(x)\n",
    "        x = self.fc3(x)\n",
    "        return x"
   ]
  },
  {
   "cell_type": "code",
   "execution_count": 574,
   "metadata": {},
   "outputs": [],
   "source": [
    "def updateSimilarityDFSingleMetric(df, sim_type, metric, value):\n",
    "    df.loc[df['Similarity'] == sim_type, metric ] = value\n",
    "    return df"
   ]
  },
  {
   "cell_type": "code",
   "execution_count": 575,
   "metadata": {},
   "outputs": [],
   "source": [
    "def updateSimilarityDF(df, sim_type, AUROC, AUPR, F1, Rec, Prec):\n",
    "    df = updateSimilarityDFSingleMetric(df, sim_type, 'AUC', AUROC)\n",
    "    df = updateSimilarityDFSingleMetric(df, sim_type, 'AUPR', AUPR)\n",
    "    df = updateSimilarityDFSingleMetric(df, sim_type, 'F-measure', F1)\n",
    "    df = updateSimilarityDFSingleMetric(df, sim_type, 'Recall', Rec)\n",
    "    df = updateSimilarityDFSingleMetric(df, sim_type, 'Precision', Prec)\n",
    "    return df"
   ]
  },
  {
   "cell_type": "code",
   "execution_count": 576,
   "metadata": {},
   "outputs": [],
   "source": [
    "def writeReplicatedIndividualScoresCSV(net, df, destination, str_hidden_layers_params):\n",
    "    net_params_to_print = [\"max_epochs\", \"batch_size\"]\n",
    "    net_params = [val for sublist in [[x,net.get_params()[x]] for x in net_params_to_print] for val in sublist]\n",
    "    net_params_string = '-'.join(map(str, flattened))\n",
    "        \n",
    "    filePath = destination + \"replicatedIndividualScores_\" + net_params_string + str_hidden_layers_params + \".csv\"\n",
    "    #print(filePath)\n",
    "    \n",
    "    df.to_csv(path_or_buf = filePath, index=False)"
   ]
  },
  {
   "cell_type": "markdown",
   "metadata": {},
   "source": [
    "# Run"
   ]
  },
  {
   "cell_type": "code",
   "execution_count": 577,
   "metadata": {},
   "outputs": [],
   "source": [
    "df_paperIndividualScores = pd.read_csv(pathPaperScores)\n",
    "\n",
    "df_replicatedIndividualScores = df_paperIndividualScores.copy()\n",
    "\n",
    "for col in df_replicatedIndividualScores.columns:\n",
    "    if col != 'Similarity':\n",
    "        df_replicatedIndividualScores[col].values[:] = 0"
   ]
  },
  {
   "cell_type": "code",
   "execution_count": 578,
   "metadata": {
    "scrolled": false
   },
   "outputs": [
    {
     "name": "stderr",
     "output_type": "stream",
     "text": [
      "/home/ubuntu/anaconda3/lib/python3.7/site-packages/sklearn/utils/validation.py:933: FutureWarning: Passing attributes to check_is_fitted is deprecated and will be removed in 0.23. The attributes argument is ignored.\n",
      "  \"argument is ignored.\", FutureWarning)\n",
      "/home/ubuntu/anaconda3/lib/python3.7/site-packages/sklearn/utils/validation.py:937: FutureWarning: Passing all_or_any to check_is_fitted is deprecated and will be removed in 0.23. The any_or_all argument is ignored.\n",
      "  \"argument is ignored.\", FutureWarning)\n"
     ]
    },
    {
     "name": "stdout",
     "output_type": "stream",
     "text": [
      "  epoch    train_loss    valid_acc    valid_loss     dur\n",
      "-------  ------------  -----------  ------------  ------\n",
      "      1        \u001b[36m0.6282\u001b[0m       \u001b[32m0.6758\u001b[0m        \u001b[35m0.6277\u001b[0m  2.1116\n",
      "      2        \u001b[36m0.6194\u001b[0m       0.6758        \u001b[35m0.6260\u001b[0m  1.9659\n",
      "      3        \u001b[36m0.6127\u001b[0m       0.6758        \u001b[35m0.6252\u001b[0m  1.9548\n",
      "      4        \u001b[36m0.6070\u001b[0m       \u001b[32m0.6760\u001b[0m        \u001b[35m0.6191\u001b[0m  1.9722\n",
      "      5        \u001b[36m0.6032\u001b[0m       \u001b[32m0.6760\u001b[0m        0.6195  2.3323\n",
      "      6        \u001b[36m0.6009\u001b[0m       0.6758        0.6273  1.9607\n",
      "      7        0.6026       \u001b[32m0.6809\u001b[0m        \u001b[35m0.6169\u001b[0m  1.9594\n",
      "      8        \u001b[36m0.5996\u001b[0m       \u001b[32m0.6814\u001b[0m        0.6375  1.9716\n",
      "      9        0.6032       0.6758        0.6277  1.9773\n",
      "     10        0.6068       0.6753        0.6224  1.9695\n",
      "     11        0.6029       0.6760        0.6187  2.0559\n",
      "     12        0.6023       0.6758        0.6244  1.9461\n",
      "     13        0.6083       0.6760        0.6207  1.9629\n",
      "     14        0.6100       0.6758        0.6258  2.0890\n",
      "     15        0.6059       0.6758        0.6506  1.9467\n",
      "     16        0.6083       0.6761        0.6212  1.9391\n",
      "     17        0.6082       0.6758        0.6191  1.9858\n",
      "     18        0.6082       0.6813        \u001b[35m0.6114\u001b[0m  1.9806\n",
      "     19        0.6049       0.6768        0.6245  1.9585\n",
      "     20        0.6093       0.6780        0.6242  1.9969\n",
      "chem 0.5131789517595633 0.3793332181116954 0.10142397795130915 0.05681350349938246 0.4721984602224123\n"
     ]
    },
    {
     "name": "stderr",
     "output_type": "stream",
     "text": [
      "/home/ubuntu/anaconda3/lib/python3.7/site-packages/sklearn/utils/validation.py:933: FutureWarning: Passing attributes to check_is_fitted is deprecated and will be removed in 0.23. The attributes argument is ignored.\n",
      "  \"argument is ignored.\", FutureWarning)\n",
      "/home/ubuntu/anaconda3/lib/python3.7/site-packages/sklearn/utils/validation.py:937: FutureWarning: Passing all_or_any to check_is_fitted is deprecated and will be removed in 0.23. The any_or_all argument is ignored.\n",
      "  \"argument is ignored.\", FutureWarning)\n"
     ]
    },
    {
     "name": "stdout",
     "output_type": "stream",
     "text": [
      "  epoch    train_loss    valid_acc    valid_loss     dur\n",
      "-------  ------------  -----------  ------------  ------\n",
      "      1        \u001b[36m0.6274\u001b[0m       \u001b[32m0.6758\u001b[0m        \u001b[35m0.6240\u001b[0m  2.3880\n",
      "      2        \u001b[36m0.5779\u001b[0m       \u001b[32m0.6925\u001b[0m        \u001b[35m0.5995\u001b[0m  2.0850\n",
      "      3        \u001b[36m0.4753\u001b[0m       0.6877        0.6153  2.0598\n",
      "      4        \u001b[36m0.4175\u001b[0m       \u001b[32m0.7169\u001b[0m        \u001b[35m0.5765\u001b[0m  1.9804\n",
      "      5        \u001b[36m0.3931\u001b[0m       \u001b[32m0.7269\u001b[0m        0.5791  1.9462\n",
      "      6        \u001b[36m0.3798\u001b[0m       0.7180        0.5983  1.9834\n",
      "      7        \u001b[36m0.3690\u001b[0m       0.7054        0.6555  1.9807\n",
      "      8        \u001b[36m0.3598\u001b[0m       \u001b[32m0.7270\u001b[0m        0.6317  1.9571\n",
      "      9        \u001b[36m0.3540\u001b[0m       0.7268        0.6241  1.9383\n",
      "     10        \u001b[36m0.3497\u001b[0m       \u001b[32m0.7352\u001b[0m        0.6273  2.3650\n",
      "     11        \u001b[36m0.3447\u001b[0m       \u001b[32m0.7376\u001b[0m        0.6014  1.9388\n",
      "     12        \u001b[36m0.3383\u001b[0m       0.7351        0.6225  1.9082\n",
      "     13        \u001b[36m0.3351\u001b[0m       0.7367        0.6315  1.9713\n",
      "     14        \u001b[36m0.3319\u001b[0m       0.7324        0.6554  1.9432\n",
      "     15        \u001b[36m0.3276\u001b[0m       0.7211        0.7134  2.1640\n",
      "     16        \u001b[36m0.3256\u001b[0m       0.7291        0.6533  1.9813\n",
      "     17        \u001b[36m0.3236\u001b[0m       0.7340        0.6548  1.9904\n",
      "     18        \u001b[36m0.3202\u001b[0m       0.7311        0.6690  1.9526\n",
      "     19        \u001b[36m0.3165\u001b[0m       0.7328        0.6800  1.9869\n",
      "     20        \u001b[36m0.3145\u001b[0m       0.7331        0.6600  2.4507\n",
      "target 0.634882275662326 0.48098596562005563 0.5060141448557122 0.504425689584191 0.5076126359399274\n"
     ]
    },
    {
     "name": "stderr",
     "output_type": "stream",
     "text": [
      "/home/ubuntu/anaconda3/lib/python3.7/site-packages/sklearn/utils/validation.py:933: FutureWarning: Passing attributes to check_is_fitted is deprecated and will be removed in 0.23. The attributes argument is ignored.\n",
      "  \"argument is ignored.\", FutureWarning)\n",
      "/home/ubuntu/anaconda3/lib/python3.7/site-packages/sklearn/utils/validation.py:937: FutureWarning: Passing all_or_any to check_is_fitted is deprecated and will be removed in 0.23. The any_or_all argument is ignored.\n",
      "  \"argument is ignored.\", FutureWarning)\n"
     ]
    },
    {
     "name": "stdout",
     "output_type": "stream",
     "text": [
      "  epoch    train_loss    valid_acc    valid_loss     dur\n",
      "-------  ------------  -----------  ------------  ------\n",
      "      1        \u001b[36m0.6074\u001b[0m       \u001b[32m0.6843\u001b[0m        \u001b[35m0.6155\u001b[0m  1.9801\n",
      "      2        \u001b[36m0.5723\u001b[0m       0.6763        0.6267  1.9306\n",
      "      3        \u001b[36m0.5448\u001b[0m       0.6763        0.6363  1.9598\n",
      "      4        \u001b[36m0.5260\u001b[0m       \u001b[32m0.7034\u001b[0m        0.6305  2.0192\n",
      "      5        \u001b[36m0.5169\u001b[0m       0.7033        0.6309  1.9597\n",
      "      6        \u001b[36m0.5103\u001b[0m       \u001b[32m0.7085\u001b[0m        \u001b[35m0.6112\u001b[0m  2.0755\n",
      "      7        \u001b[36m0.5060\u001b[0m       \u001b[32m0.7117\u001b[0m        \u001b[35m0.6067\u001b[0m  1.9434\n",
      "      8        \u001b[36m0.5032\u001b[0m       0.7108        0.6246  1.9238\n",
      "      9        \u001b[36m0.4989\u001b[0m       0.7096        \u001b[35m0.6025\u001b[0m  1.9691\n",
      "     10        \u001b[36m0.4976\u001b[0m       0.7081        0.6083  1.9986\n",
      "     11        \u001b[36m0.4949\u001b[0m       0.7103        0.6234  1.9577\n",
      "     12        \u001b[36m0.4938\u001b[0m       \u001b[32m0.7159\u001b[0m        0.6027  1.9784\n",
      "     13        \u001b[36m0.4922\u001b[0m       \u001b[32m0.7174\u001b[0m        0.6103  1.9720\n",
      "     14        \u001b[36m0.4903\u001b[0m       \u001b[32m0.7191\u001b[0m        0.6063  1.9735\n",
      "     15        \u001b[36m0.4898\u001b[0m       0.7182        0.6054  1.9586\n",
      "     16        \u001b[36m0.4891\u001b[0m       0.7183        0.6108  1.9043\n",
      "     17        \u001b[36m0.4875\u001b[0m       \u001b[32m0.7267\u001b[0m        0.6209  1.9438\n",
      "     18        \u001b[36m0.4869\u001b[0m       0.7216        0.6086  1.9564\n",
      "     19        \u001b[36m0.4856\u001b[0m       0.7259        0.6132  1.9868\n",
      "     20        \u001b[36m0.4841\u001b[0m       \u001b[32m0.7294\u001b[0m        0.6140  1.9457\n",
      "transporter 0.5944472559156779 0.4175838703279956 0.45149984537676524 0.4508027995059695 0.45219905017551104\n"
     ]
    },
    {
     "name": "stderr",
     "output_type": "stream",
     "text": [
      "/home/ubuntu/anaconda3/lib/python3.7/site-packages/sklearn/utils/validation.py:933: FutureWarning: Passing attributes to check_is_fitted is deprecated and will be removed in 0.23. The attributes argument is ignored.\n",
      "  \"argument is ignored.\", FutureWarning)\n",
      "/home/ubuntu/anaconda3/lib/python3.7/site-packages/sklearn/utils/validation.py:937: FutureWarning: Passing all_or_any to check_is_fitted is deprecated and will be removed in 0.23. The any_or_all argument is ignored.\n",
      "  \"argument is ignored.\", FutureWarning)\n"
     ]
    },
    {
     "name": "stdout",
     "output_type": "stream",
     "text": [
      "  epoch    train_loss    valid_acc    valid_loss     dur\n",
      "-------  ------------  -----------  ------------  ------\n",
      "      1        \u001b[36m0.6039\u001b[0m       \u001b[32m0.6908\u001b[0m        \u001b[35m0.6005\u001b[0m  1.9825\n",
      "      2        \u001b[36m0.5505\u001b[0m       \u001b[32m0.7106\u001b[0m        \u001b[35m0.5822\u001b[0m  1.9803\n",
      "      3        \u001b[36m0.5048\u001b[0m       0.6990        0.5902  2.2712\n",
      "      4        \u001b[36m0.4829\u001b[0m       0.7084        0.5859  1.7887\n",
      "      5        \u001b[36m0.4716\u001b[0m       0.7023        0.5876  1.8173\n",
      "      6        \u001b[36m0.4640\u001b[0m       0.6980        0.5927  1.8988\n",
      "      7        \u001b[36m0.4575\u001b[0m       0.6964        0.5882  1.7547\n",
      "      8        \u001b[36m0.4524\u001b[0m       0.7028        0.5868  1.7294\n",
      "      9        \u001b[36m0.4490\u001b[0m       0.7054        \u001b[35m0.5750\u001b[0m  1.7289\n",
      "     10        \u001b[36m0.4455\u001b[0m       0.7049        0.5988  1.7294\n",
      "     11        \u001b[36m0.4431\u001b[0m       0.7097        0.5778  1.7223\n",
      "     12        \u001b[36m0.4400\u001b[0m       0.7094        0.5816  1.7031\n",
      "     13        \u001b[36m0.4387\u001b[0m       \u001b[32m0.7144\u001b[0m        0.5787  1.7204\n",
      "     14        \u001b[36m0.4358\u001b[0m       0.7060        0.5997  1.9412\n",
      "     15        0.4363       \u001b[32m0.7164\u001b[0m        0.5827  1.9369\n",
      "     16        \u001b[36m0.4330\u001b[0m       0.7037        0.6054  2.2808\n",
      "     17        \u001b[36m0.4326\u001b[0m       0.7022        0.6018  2.4216\n",
      "     18        \u001b[36m0.4309\u001b[0m       0.7082        0.5949  1.9870\n",
      "     19        \u001b[36m0.4295\u001b[0m       0.7100        0.5817  1.9605\n",
      "     20        \u001b[36m0.4285\u001b[0m       0.7136        0.5838  1.8967\n",
      "enzyme 0.6135132399567227 0.4852842304561583 0.5207259863108514 0.6968917249897078 0.4156537753222836\n"
     ]
    },
    {
     "name": "stderr",
     "output_type": "stream",
     "text": [
      "/home/ubuntu/anaconda3/lib/python3.7/site-packages/sklearn/utils/validation.py:933: FutureWarning: Passing attributes to check_is_fitted is deprecated and will be removed in 0.23. The attributes argument is ignored.\n",
      "  \"argument is ignored.\", FutureWarning)\n",
      "/home/ubuntu/anaconda3/lib/python3.7/site-packages/sklearn/utils/validation.py:937: FutureWarning: Passing all_or_any to check_is_fitted is deprecated and will be removed in 0.23. The any_or_all argument is ignored.\n",
      "  \"argument is ignored.\", FutureWarning)\n"
     ]
    },
    {
     "name": "stdout",
     "output_type": "stream",
     "text": [
      "  epoch    train_loss    valid_acc    valid_loss     dur\n",
      "-------  ------------  -----------  ------------  ------\n",
      "      1        \u001b[36m0.6191\u001b[0m       \u001b[32m0.6706\u001b[0m        \u001b[35m0.6250\u001b[0m  2.2629\n",
      "      2        \u001b[36m0.5552\u001b[0m       \u001b[32m0.6963\u001b[0m        \u001b[35m0.6064\u001b[0m  2.4614\n",
      "      3        \u001b[36m0.4922\u001b[0m       0.6751        0.6220  1.9628\n",
      "      4        \u001b[36m0.4626\u001b[0m       0.6440        0.6540  2.3976\n",
      "      5        \u001b[36m0.4438\u001b[0m       0.6812        0.6412  2.2610\n",
      "      6        \u001b[36m0.4308\u001b[0m       0.6806        0.6323  2.3836\n",
      "      7        \u001b[36m0.4207\u001b[0m       \u001b[32m0.7190\u001b[0m        \u001b[35m0.5998\u001b[0m  1.9757\n",
      "      8        \u001b[36m0.4147\u001b[0m       \u001b[32m0.7230\u001b[0m        \u001b[35m0.5927\u001b[0m  2.0211\n",
      "      9        \u001b[36m0.4059\u001b[0m       0.6743        0.6662  1.9393\n",
      "     10        \u001b[36m0.3999\u001b[0m       \u001b[32m0.7310\u001b[0m        0.5934  1.9799\n",
      "     11        \u001b[36m0.3965\u001b[0m       0.7134        0.6199  2.3918\n",
      "     12        \u001b[36m0.3911\u001b[0m       0.6910        0.6694  2.0182\n",
      "     13        \u001b[36m0.3885\u001b[0m       0.7109        0.6330  1.9491\n",
      "     14        \u001b[36m0.3854\u001b[0m       0.7254        0.6136  2.0057\n",
      "     15        \u001b[36m0.3828\u001b[0m       0.7056        0.6502  1.9338\n",
      "     16        \u001b[36m0.3807\u001b[0m       0.6913        0.6671  1.9785\n",
      "     17        \u001b[36m0.3777\u001b[0m       0.6976        0.6720  1.9891\n",
      "     18        \u001b[36m0.3745\u001b[0m       0.7050        0.6509  2.1131\n",
      "     19        \u001b[36m0.3720\u001b[0m       0.7006        0.6780  2.0209\n",
      "     20        \u001b[36m0.3706\u001b[0m       0.7218        0.6224  2.1789\n",
      "pathway 0.6047812848112618 0.4538101077912379 0.4898123324396782 0.5641210374639769 0.4328016424510423\n"
     ]
    },
    {
     "name": "stderr",
     "output_type": "stream",
     "text": [
      "/home/ubuntu/anaconda3/lib/python3.7/site-packages/sklearn/utils/validation.py:933: FutureWarning: Passing attributes to check_is_fitted is deprecated and will be removed in 0.23. The attributes argument is ignored.\n",
      "  \"argument is ignored.\", FutureWarning)\n",
      "/home/ubuntu/anaconda3/lib/python3.7/site-packages/sklearn/utils/validation.py:937: FutureWarning: Passing all_or_any to check_is_fitted is deprecated and will be removed in 0.23. The any_or_all argument is ignored.\n",
      "  \"argument is ignored.\", FutureWarning)\n"
     ]
    },
    {
     "name": "stdout",
     "output_type": "stream",
     "text": [
      "  epoch    train_loss    valid_acc    valid_loss     dur\n",
      "-------  ------------  -----------  ------------  ------\n",
      "      1        \u001b[36m0.5907\u001b[0m       \u001b[32m0.7156\u001b[0m        \u001b[35m0.5667\u001b[0m  1.7514\n",
      "      2        \u001b[36m0.4633\u001b[0m       0.7095        0.5710  2.0386\n",
      "      3        \u001b[36m0.3857\u001b[0m       0.7123        0.6021  1.9830\n",
      "      4        \u001b[36m0.3474\u001b[0m       \u001b[32m0.7226\u001b[0m        0.6110  1.9596\n",
      "      5        \u001b[36m0.3249\u001b[0m       0.7145        0.6547  1.9835\n",
      "      6        \u001b[36m0.3095\u001b[0m       0.7124        0.6707  1.9833\n",
      "      7        \u001b[36m0.3003\u001b[0m       0.7142        0.6814  1.9693\n",
      "      8        \u001b[36m0.2912\u001b[0m       0.7177        0.7082  1.7500\n",
      "      9        \u001b[36m0.2858\u001b[0m       \u001b[32m0.7244\u001b[0m        0.6806  1.9393\n",
      "     10        \u001b[36m0.2794\u001b[0m       0.7214        0.6779  1.9536\n",
      "     11        \u001b[36m0.2729\u001b[0m       \u001b[32m0.7250\u001b[0m        0.7016  1.9436\n",
      "     12        \u001b[36m0.2689\u001b[0m       \u001b[32m0.7259\u001b[0m        0.7006  1.9251\n",
      "     13        \u001b[36m0.2659\u001b[0m       \u001b[32m0.7260\u001b[0m        0.7170  2.2939\n",
      "     14        \u001b[36m0.2601\u001b[0m       0.7240        0.7283  2.2916\n",
      "     15        \u001b[36m0.2567\u001b[0m       0.7243        0.7383  2.3986\n",
      "     16        \u001b[36m0.2539\u001b[0m       \u001b[32m0.7291\u001b[0m        0.7155  2.1507\n",
      "     17        \u001b[36m0.2513\u001b[0m       0.7210        0.7647  2.3133\n",
      "     18        \u001b[36m0.2483\u001b[0m       0.7266        0.7585  2.0214\n",
      "     19        \u001b[36m0.2446\u001b[0m       \u001b[32m0.7308\u001b[0m        0.7499  2.3731\n",
      "     20        \u001b[36m0.2422\u001b[0m       0.7291        0.7517  2.3689\n",
      "indication 0.6785132813108531 0.6009673327613118 0.5708375426949536 0.6106422396047756 0.5359046156625418\n"
     ]
    },
    {
     "name": "stderr",
     "output_type": "stream",
     "text": [
      "/home/ubuntu/anaconda3/lib/python3.7/site-packages/sklearn/utils/validation.py:933: FutureWarning: Passing attributes to check_is_fitted is deprecated and will be removed in 0.23. The attributes argument is ignored.\n",
      "  \"argument is ignored.\", FutureWarning)\n",
      "/home/ubuntu/anaconda3/lib/python3.7/site-packages/sklearn/utils/validation.py:937: FutureWarning: Passing all_or_any to check_is_fitted is deprecated and will be removed in 0.23. The any_or_all argument is ignored.\n",
      "  \"argument is ignored.\", FutureWarning)\n"
     ]
    },
    {
     "name": "stdout",
     "output_type": "stream",
     "text": [
      "  epoch    train_loss    valid_acc    valid_loss     dur\n",
      "-------  ------------  -----------  ------------  ------\n",
      "      1        \u001b[36m0.5894\u001b[0m       \u001b[32m0.6942\u001b[0m        \u001b[35m0.5864\u001b[0m  2.1084\n",
      "      2        \u001b[36m0.5557\u001b[0m       \u001b[32m0.6965\u001b[0m        0.5918  2.3098\n",
      "      3        \u001b[36m0.5317\u001b[0m       0.6853        0.6446  2.0340\n",
      "      4        \u001b[36m0.5218\u001b[0m       0.6942        0.5869  1.9918\n",
      "      5        \u001b[36m0.5166\u001b[0m       \u001b[32m0.7166\u001b[0m        \u001b[35m0.5744\u001b[0m  1.8582\n",
      "      6        \u001b[36m0.5164\u001b[0m       0.7043        0.5811  1.8675\n",
      "      7        \u001b[36m0.5131\u001b[0m       0.7091        0.5792  1.9601\n",
      "      8        0.5175       0.6953        0.5848  2.3063\n",
      "      9        0.5149       0.7038        0.5778  2.2238\n",
      "     10        0.5151       0.7117        0.5848  1.9605\n",
      "     11        0.5179       0.6960        0.5825  1.9181\n",
      "     12        0.5243       0.6970        0.5768  1.9881\n",
      "     13        0.5209       0.6654        0.6072  1.9655\n",
      "     14        0.5153       \u001b[32m0.7194\u001b[0m        \u001b[35m0.5646\u001b[0m  2.0132\n",
      "     15        \u001b[36m0.5131\u001b[0m       0.6982        0.5838  1.9605\n",
      "     16        0.5206       0.6961        0.5824  1.9641\n",
      "     17        0.5292       0.7021        0.5742  1.9649\n",
      "     18        0.5202       0.7031        0.5758  1.9925\n",
      "     19        \u001b[36m0.5127\u001b[0m       0.6870        0.6585  2.3391\n",
      "     20        \u001b[36m0.5098\u001b[0m       0.6807        0.6561  2.0305\n",
      "sideeffect 0.60786093300893 0.4539084980538889 0.5417780645954334 0.9072663647591601 0.38619934282584883\n"
     ]
    },
    {
     "name": "stderr",
     "output_type": "stream",
     "text": [
      "/home/ubuntu/anaconda3/lib/python3.7/site-packages/sklearn/utils/validation.py:933: FutureWarning: Passing attributes to check_is_fitted is deprecated and will be removed in 0.23. The attributes argument is ignored.\n",
      "  \"argument is ignored.\", FutureWarning)\n",
      "/home/ubuntu/anaconda3/lib/python3.7/site-packages/sklearn/utils/validation.py:937: FutureWarning: Passing all_or_any to check_is_fitted is deprecated and will be removed in 0.23. The any_or_all argument is ignored.\n",
      "  \"argument is ignored.\", FutureWarning)\n"
     ]
    },
    {
     "name": "stdout",
     "output_type": "stream",
     "text": [
      "  epoch    train_loss    valid_acc    valid_loss     dur\n",
      "-------  ------------  -----------  ------------  ------\n",
      "      1        \u001b[36m0.5728\u001b[0m       \u001b[32m0.7222\u001b[0m        \u001b[35m0.5564\u001b[0m  2.2337\n",
      "      2        \u001b[36m0.5080\u001b[0m       \u001b[32m0.7318\u001b[0m        \u001b[35m0.5279\u001b[0m  2.0779\n",
      "      3        \u001b[36m0.4730\u001b[0m       \u001b[32m0.7513\u001b[0m        \u001b[35m0.4952\u001b[0m  2.1504\n",
      "      4        \u001b[36m0.4635\u001b[0m       \u001b[32m0.7592\u001b[0m        \u001b[35m0.4870\u001b[0m  2.0820\n",
      "      5        \u001b[36m0.4598\u001b[0m       \u001b[32m0.7727\u001b[0m        \u001b[35m0.4796\u001b[0m  2.1021\n",
      "      6        \u001b[36m0.4544\u001b[0m       0.6734        0.5761  2.0370\n",
      "      7        0.4604       0.7503        0.5092  1.9956\n",
      "      8        0.4592       0.6978        0.5511  1.9166\n",
      "      9        0.4587       0.7281        0.5240  1.9654\n",
      "     10        0.4574       0.7681        0.4821  1.9344\n",
      "     11        0.4653       0.7350        0.5156  1.9338\n",
      "     12        0.4695       0.7443        0.5148  1.9540\n",
      "     13        0.4610       0.7624        0.4937  1.9390\n",
      "     14        0.4699       0.7050        0.5478  1.9404\n",
      "     15        0.4776       0.7595        0.4943  1.9764\n",
      "     16        0.4696       0.7640        0.4910  1.9512\n",
      "     17        0.4737       0.7345        0.5141  1.9628\n",
      "     18        0.4745       0.7626        0.4877  1.8939\n",
      "     19        0.4693       0.7631        0.4871  1.9273\n",
      "     20        0.4674       0.7365        0.5105  1.9264\n",
      "offsideeffect 0.741948919784387 0.6508989857334123 0.6503979576512992 0.891519143680527 0.5119385342789599\n"
     ]
    }
   ],
   "source": [
    "device = torch.device(\"cuda:0\" if torch.cuda.is_available() else \"cpu\")\n",
    "do_prepare_data = False\n",
    "soft = nn.Softmax(dim=1)\n",
    "similaritiesToRun = df_paperIndividualScores['Similarity']\n",
    "# similaritiesToRun = [\"chem\"]\n",
    "\n",
    "for similarity in similaritiesToRun:\n",
    "    input_fea = pathInput+DS1_path+\"/\" + similarity + \"_Jacarrd_sim.csv\"\n",
    "    input_lab = pathInput+DS1_path+\"/drug_drug_matrix.csv\"\n",
    "    dataPicklePath = pathPickles+\"data_X_y_\" + similarity + \"_Jaccard.p\"\n",
    "\n",
    "    # Prepare data if not available\n",
    "    if do_prepare_data:\n",
    "        X,y = prepare_data(input_fea, input_lab, seperate = False)\n",
    "\n",
    "        with open(dataPicklePath, 'wb') as f:\n",
    "            pickle.dump([X, y], f)\n",
    "\n",
    "    # Load X,y and split in to train, test\n",
    "    with open(dataPicklePath, 'rb') as f:\n",
    "        X, y = pickle.load(f)\n",
    "    \n",
    "    X = X.astype(np.float32)\n",
    "    y = y.astype(np.int64)    \n",
    "    X_train, X_test, y_train, y_test = do_stratifiedKFold(X,y,n_splits=5)\n",
    "    \n",
    "    # Define model\n",
    "    D_in, H1, H2, D_out, drop = X.shape[1], 400, 300, 2, 0.5\n",
    "    str_hidden_layers_params = \"-H1-\" + str(H1) + \"-H2-\" + str(H2)\n",
    "    model = NDD(D_in, H1, H2, D_out, drop)\n",
    "    callbacks = []\n",
    "\n",
    "    # Define Network Classifier\n",
    "    net = NeuralNetClassifier(\n",
    "        model,\n",
    "        criterion=nn.CrossEntropyLoss,\n",
    "        max_epochs=20,\n",
    "        optimizer=SGD,\n",
    "        optimizer__lr=0.01,\n",
    "        optimizer__momentum=0.9,    \n",
    "        optimizer__weight_decay=1e-6,    \n",
    "        optimizer__nesterov=True,    \n",
    "        batch_size=200,\n",
    "        callbacks=callbacks,\n",
    "        # Shuffle training data on each epoch\n",
    "        iterator_train__shuffle=True,\n",
    "        device=device,\n",
    "    )\n",
    "    \n",
    "    # Fit network and make predictions\n",
    "    net.fit(X_train, y_train)\n",
    "    y_pred = net.predict(X_test)\n",
    "    #lr_probs = net.predict_proba(X_train)\n",
    "#     lr_probs = lr_probs[:, 1]\n",
    "    lr_probs = soft(net.forward(X_test))[:,1]\n",
    "    lr_precision, lr_recall, _ = precision_recall_curve(y_test, lr_probs)\n",
    "#     AUPR = auc(lr_recall, lr_precision)\n",
    "#     print(AUPR)\n",
    "    AUROC, AUPR, F1, Rec, Prec = roc_auc_score(y_test, y_pred), auc(lr_recall, lr_precision), f1_score(y_test, y_pred), recall_score(y_test, y_pred), precision_score(y_test, y_pred)\n",
    "    print(similarity, AUROC, AUPR, F1, Rec, Prec)\n",
    "#     break\n",
    "    \n",
    "    # Fill replicated metrics\n",
    "    updateSimilarityDF(df_replicatedIndividualScores, similarity, AUROC, AUPR, F1, Rec, Prec)\n",
    "    \n",
    "# Write CSV\n",
    "writeReplicatedIndividualScoresCSV(net, df_replicatedIndividualScores, pathRuns, str_hidden_layers_params)"
   ]
  },
  {
   "cell_type": "markdown",
   "metadata": {},
   "source": [
    "# Compare to Paper"
   ]
  },
  {
   "cell_type": "code",
   "execution_count": 579,
   "metadata": {
    "scrolled": true
   },
   "outputs": [
    {
     "name": "stdout",
     "output_type": "stream",
     "text": [
      "      Similarity    AUC   AUPR  F-measure  Recall  Precision\n",
      "0           chem  0.631  0.455      0.527   0.899      0.373\n",
      "1         target  0.787  0.642      0.617   0.721      0.540\n",
      "2    transporter  0.682  0.568      0.519   0.945      0.358\n",
      "3         enzyme  0.734  0.599      0.552   0.579      0.529\n",
      "4        pathway  0.767  0.623      0.587   0.650      0.536\n",
      "5     indication  0.802  0.654      0.632   0.740      0.551\n",
      "6     sideeffect  0.778  0.601      0.619   0.748      0.528\n",
      "7  offsideeffect  0.782  0.606      0.617   0.764      0.517\n"
     ]
    }
   ],
   "source": [
    "print(df_paperIndividualScores)"
   ]
  },
  {
   "cell_type": "code",
   "execution_count": 580,
   "metadata": {},
   "outputs": [
    {
     "name": "stdout",
     "output_type": "stream",
     "text": [
      "      Similarity       AUC      AUPR  F-measure    Recall  Precision\n",
      "0           chem  0.513179  0.379333   0.101424  0.056814   0.472198\n",
      "1         target  0.634882  0.480986   0.506014  0.504426   0.507613\n",
      "2    transporter  0.594447  0.417584   0.451500  0.450803   0.452199\n",
      "3         enzyme  0.613513  0.485284   0.520726  0.696892   0.415654\n",
      "4        pathway  0.604781  0.453810   0.489812  0.564121   0.432802\n",
      "5     indication  0.678513  0.600967   0.570838  0.610642   0.535905\n",
      "6     sideeffect  0.607861  0.453908   0.541778  0.907266   0.386199\n",
      "7  offsideeffect  0.741949  0.650899   0.650398  0.891519   0.511939\n"
     ]
    }
   ],
   "source": [
    "print(df_replicatedIndividualScores)"
   ]
  },
  {
   "cell_type": "code",
   "execution_count": 581,
   "metadata": {
    "scrolled": false
   },
   "outputs": [],
   "source": [
    "diff_metrics = ['AUC', 'AUPR', 'F-measure', 'Recall', 'Precision']\n",
    "df_diff = df_paperIndividualScores[diff_metrics] - df_replicatedIndividualScores[diff_metrics]\n",
    "df_diff_abs = df_diff.abs()\n",
    "df_diff_percent = (df_diff_abs / df_paperIndividualScores[diff_metrics]) * 100"
   ]
  },
  {
   "cell_type": "code",
   "execution_count": 582,
   "metadata": {},
   "outputs": [
    {
     "data": {
      "text/html": [
       "<div>\n",
       "<style scoped>\n",
       "    .dataframe tbody tr th:only-of-type {\n",
       "        vertical-align: middle;\n",
       "    }\n",
       "\n",
       "    .dataframe tbody tr th {\n",
       "        vertical-align: top;\n",
       "    }\n",
       "\n",
       "    .dataframe thead th {\n",
       "        text-align: right;\n",
       "    }\n",
       "</style>\n",
       "<table border=\"1\" class=\"dataframe\">\n",
       "  <thead>\n",
       "    <tr style=\"text-align: right;\">\n",
       "      <th></th>\n",
       "      <th>AUC</th>\n",
       "      <th>AUPR</th>\n",
       "      <th>F-measure</th>\n",
       "      <th>Recall</th>\n",
       "      <th>Precision</th>\n",
       "    </tr>\n",
       "  </thead>\n",
       "  <tbody>\n",
       "    <tr>\n",
       "      <th>0</th>\n",
       "      <td>0.117821</td>\n",
       "      <td>0.075667</td>\n",
       "      <td>0.425576</td>\n",
       "      <td>0.842186</td>\n",
       "      <td>-0.099198</td>\n",
       "    </tr>\n",
       "    <tr>\n",
       "      <th>1</th>\n",
       "      <td>0.152118</td>\n",
       "      <td>0.161014</td>\n",
       "      <td>0.110986</td>\n",
       "      <td>0.216574</td>\n",
       "      <td>0.032387</td>\n",
       "    </tr>\n",
       "    <tr>\n",
       "      <th>2</th>\n",
       "      <td>0.087553</td>\n",
       "      <td>0.150416</td>\n",
       "      <td>0.067500</td>\n",
       "      <td>0.494197</td>\n",
       "      <td>-0.094199</td>\n",
       "    </tr>\n",
       "    <tr>\n",
       "      <th>3</th>\n",
       "      <td>0.120487</td>\n",
       "      <td>0.113716</td>\n",
       "      <td>0.031274</td>\n",
       "      <td>-0.117892</td>\n",
       "      <td>0.113346</td>\n",
       "    </tr>\n",
       "    <tr>\n",
       "      <th>4</th>\n",
       "      <td>0.162219</td>\n",
       "      <td>0.169190</td>\n",
       "      <td>0.097188</td>\n",
       "      <td>0.085879</td>\n",
       "      <td>0.103198</td>\n",
       "    </tr>\n",
       "    <tr>\n",
       "      <th>5</th>\n",
       "      <td>0.123487</td>\n",
       "      <td>0.053033</td>\n",
       "      <td>0.061162</td>\n",
       "      <td>0.129358</td>\n",
       "      <td>0.015095</td>\n",
       "    </tr>\n",
       "    <tr>\n",
       "      <th>6</th>\n",
       "      <td>0.170139</td>\n",
       "      <td>0.147092</td>\n",
       "      <td>0.077222</td>\n",
       "      <td>-0.159266</td>\n",
       "      <td>0.141801</td>\n",
       "    </tr>\n",
       "    <tr>\n",
       "      <th>7</th>\n",
       "      <td>0.040051</td>\n",
       "      <td>-0.044899</td>\n",
       "      <td>-0.033398</td>\n",
       "      <td>-0.127519</td>\n",
       "      <td>0.005061</td>\n",
       "    </tr>\n",
       "  </tbody>\n",
       "</table>\n",
       "</div>"
      ],
      "text/plain": [
       "        AUC      AUPR  F-measure    Recall  Precision\n",
       "0  0.117821  0.075667   0.425576  0.842186  -0.099198\n",
       "1  0.152118  0.161014   0.110986  0.216574   0.032387\n",
       "2  0.087553  0.150416   0.067500  0.494197  -0.094199\n",
       "3  0.120487  0.113716   0.031274 -0.117892   0.113346\n",
       "4  0.162219  0.169190   0.097188  0.085879   0.103198\n",
       "5  0.123487  0.053033   0.061162  0.129358   0.015095\n",
       "6  0.170139  0.147092   0.077222 -0.159266   0.141801\n",
       "7  0.040051 -0.044899  -0.033398 -0.127519   0.005061"
      ]
     },
     "execution_count": 582,
     "metadata": {},
     "output_type": "execute_result"
    }
   ],
   "source": [
    "df_diff"
   ]
  },
  {
   "cell_type": "code",
   "execution_count": 583,
   "metadata": {},
   "outputs": [
    {
     "data": {
      "text/plain": [
       "<matplotlib.axes._subplots.AxesSubplot at 0x7f7386d78198>"
      ]
     },
     "execution_count": 583,
     "metadata": {},
     "output_type": "execute_result"
    },
    {
     "data": {
      "image/png": "[encoded data removed]",
      "text/plain": [
       "<Figure size 432x288 with 2 Axes>"
      ]
     },
     "metadata": {
      "needs_background": "light"
     },
     "output_type": "display_data"
    }
   ],
   "source": [
    "from seaborn import heatmap\n",
    "heatmap(df_diff, yticklabels=df_paperIndividualScores[\"Similarity\"])"
   ]
  },
  {
   "cell_type": "code",
   "execution_count": 584,
   "metadata": {},
   "outputs": [
    {
     "data": {
      "text/plain": [
       "<matplotlib.axes._subplots.AxesSubplot at 0x7f73b93aadd8>"
      ]
     },
     "execution_count": 584,
     "metadata": {},
     "output_type": "execute_result"
    },
    {
     "data": {
      "image/png": "[encoded data removed]",
      "text/plain": [
       "<Figure size 432x288 with 2 Axes>"
      ]
     },
     "metadata": {
      "needs_background": "light"
     },
     "output_type": "display_data"
    }
   ],
   "source": [
    "heatmap(df_diff_abs, yticklabels=df_paperIndividualScores[\"Similarity\"])"
   ]
  },
  {
   "cell_type": "code",
   "execution_count": 585,
   "metadata": {},
   "outputs": [
    {
     "data": {
      "text/plain": [
       "<matplotlib.axes._subplots.AxesSubplot at 0x7f73b1811668>"
      ]
     },
     "execution_count": 585,
     "metadata": {},
     "output_type": "execute_result"
    },
    {
     "data": {
      "image/png": "[encoded data removed]",
      "text/plain": [
       "<Figure size 432x288 with 2 Axes>"
      ]
     },
     "metadata": {
      "needs_background": "light"
     },
     "output_type": "display_data"
    }
   ],
   "source": [
    "heatmap(df_diff_percent, yticklabels=df_paperIndividualScores[\"Similarity\"])"
   ]
  },
  {
   "cell_type": "code",
   "execution_count": 586,
   "metadata": {},
   "outputs": [
    {
     "data": {
      "text/plain": [
       "0.04041291487692449"
      ]
     },
     "execution_count": 586,
     "metadata": {},
     "output_type": "execute_result"
    }
   ],
   "source": [
    "from sklearn.metrics import mean_squared_error\n",
    "mean_squared_error(df_paperIndividualScores[['AUC', 'AUPR', 'F-measure', 'Recall', 'Precision']],\n",
    "                   df_replicatedIndividualScores[['AUC', 'AUPR', 'F-measure', 'Recall', 'Precision']])"
   ]
  },
  {
   "cell_type": "code",
   "execution_count": null,
   "metadata": {},
   "outputs": [],
   "source": []
  }
 ],
 "metadata": {
  "kernelspec": {
   "display_name": "Python 3",
   "language": "python",
   "name": "python3"
  },
  "language_info": {
   "codemirror_mode": {
    "name": "ipython",
    "version": 3
   },
   "file_extension": ".py",
   "mimetype": "text/x-python",
   "name": "python",
   "nbconvert_exporter": "python",
   "pygments_lexer": "ipython3",
   "version": "3.7.3"
  }
 },
 "nbformat": 4,
 "nbformat_minor": 2
}
