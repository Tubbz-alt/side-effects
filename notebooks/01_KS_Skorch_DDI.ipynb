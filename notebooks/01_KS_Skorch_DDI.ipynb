{
 "cells": [
  {
   "cell_type": "markdown",
   "metadata": {},
   "source": [
    "![](https://scikit-learn.org/stable/_images/grid_search_workflow.png)"
   ]
  },
  {
   "cell_type": "code",
   "execution_count": 617,
   "metadata": {},
   "outputs": [],
   "source": [
    "import numpy as np\n",
    "import pandas as pd\n",
    "\n",
    "import pickle\n",
    "\n",
    "from sklearn.datasets import make_classification\n",
    "from sklearn.pipeline import Pipeline\n",
    "from sklearn.preprocessing import LabelEncoder\n",
    "from sklearn.model_selection import GridSearchCV\n",
    "from sklearn.model_selection import train_test_split\n",
    "from sklearn.model_selection import StratifiedKFold\n",
    "from sklearn.metrics import accuracy_score, f1_score, roc_auc_score, precision_score, recall_score, matthews_corrcoef, precision_recall_curve, auc\n",
    "\n",
    "from keras.utils import np_utils\n",
    "\n",
    "import torch\n",
    "from torch import nn\n",
    "import torch.nn.functional as F\n",
    "from torch.utils.data import TensorDataset\n",
    "from torch.utils.data import Dataset\n",
    "from torch.utils.data import DataLoader\n",
    "from torch.utils.tensorboard import SummaryWriter\n",
    "from torch.optim import SGD\n",
    "\n",
    "from skorch import NeuralNetClassifier\n",
    "from skorch.callbacks import EpochScoring\n",
    "from skorch.callbacks import TensorBoard"
   ]
  },
  {
   "cell_type": "code",
   "execution_count": 618,
   "metadata": {},
   "outputs": [],
   "source": [
    "# import configurations (file paths, etc.)\n",
    "import yaml\n",
    "try:\n",
    "    from yaml import CLoader as Loader, CDumper as Dumper\n",
    "except ImportError:\n",
    "    from yaml import Loader, Dumper\n",
    "    \n",
    "configFile = '../cluster/data/medinfmk/ddi/config/config.yml'\n",
    "\n",
    "with open(configFile, 'r') as ymlfile:\n",
    "    cfg = yaml.load(ymlfile, Loader=Loader)"
   ]
  },
  {
   "cell_type": "code",
   "execution_count": 619,
   "metadata": {},
   "outputs": [],
   "source": [
    "pathInput = cfg['filePaths']['dirRaw']\n",
    "pathOutput = cfg['filePaths']['dirProcessed']\n",
    "# path to store python binary files (pickles)\n",
    "# in order not to recalculate them every time\n",
    "pathPickles = cfg['filePaths']['dirProcessedFiles']['dirPickles']\n",
    "pathRuns = cfg['filePaths']['dirProcessedFiles']['dirRuns']\n",
    "pathPaperScores = cfg['filePaths']['dirRawFiles']['paper-individual-metrics-scores']\n",
    "datasetDirs = cfg['filePaths']['dirRawDatasets']\n",
    "DS1_path = str(datasetDirs[0])"
   ]
  },
  {
   "cell_type": "markdown",
   "metadata": {},
   "source": [
    "# Helper Functions"
   ]
  },
  {
   "cell_type": "code",
   "execution_count": 620,
   "metadata": {},
   "outputs": [],
   "source": [
    "def prepare_data(input_fea, input_lab, seperate=False):\n",
    "    offside_sim_path = input_fea\n",
    "    drug_interaction_matrix_path = input_lab\n",
    "    drug_fea = np.loadtxt(offside_sim_path,dtype=float,delimiter=\",\")\n",
    "    interaction = np.loadtxt(drug_interaction_matrix_path,dtype=int,delimiter=\",\")\n",
    "    \n",
    "    train = []\n",
    "    label = []\n",
    "    tmp_fea=[]\n",
    "    drug_fea_tmp = []\n",
    "            \n",
    "    for i in range(0, (interaction.shape[0]-1)):\n",
    "        for j in range((i+1), interaction.shape[1]):\n",
    "            label.append(interaction[i,j])\n",
    "            drug_fea_tmp_1 = list(drug_fea[i])\n",
    "            drug_fea_tmp_2 = list(drug_fea[j])\n",
    "            if seperate:\n",
    "                 tmp_fea = (drug_fea_tmp_1,drug_fea_tmp_2)\n",
    "            else:\n",
    "                 tmp_fea = drug_fea_tmp_1 + drug_fea_tmp_2\n",
    "            train.append(tmp_fea)\n",
    "\n",
    "    return np.array(train), np.array(label)"
   ]
  },
  {
   "cell_type": "code",
   "execution_count": 621,
   "metadata": {},
   "outputs": [],
   "source": [
    "def transfer_array_format(data):\n",
    "    formated_matrix1 = []\n",
    "    formated_matrix2 = []\n",
    "    for val in data:\n",
    "        formated_matrix1.append(val[0])\n",
    "        formated_matrix2.append(val[1])\n",
    "    return np.array(formated_matrix1), np.array(formated_matrix2)"
   ]
  },
  {
   "cell_type": "code",
   "execution_count": 622,
   "metadata": {},
   "outputs": [],
   "source": [
    "def preprocess_labels(labels, encoder=None, categorical=True):\n",
    "    if not encoder:\n",
    "        encoder = LabelEncoder()\n",
    "        encoder.fit(labels)\n",
    "        y = encoder.transform(labels).astype(np.int32)\n",
    "    if categorical:\n",
    "        y = np_utils.to_categorical(y)\n",
    "        print(y)\n",
    "    return y, encoder"
   ]
  },
  {
   "cell_type": "code",
   "execution_count": 623,
   "metadata": {},
   "outputs": [],
   "source": [
    "def preprocess_names(labels, encoder=None, categorical=True):\n",
    "    if not encoder:\n",
    "        encoder = LabelEncoder()\n",
    "        encoder.fit(labels)\n",
    "    if categorical:\n",
    "        labels = np_utils.to_categorical(labels)\n",
    "    return labels, encoder"
   ]
  },
  {
   "cell_type": "code",
   "execution_count": 624,
   "metadata": {},
   "outputs": [],
   "source": [
    "def do_stratifiedKFold(X,y,n_splits):\n",
    "    skf = StratifiedKFold(n_splits=n_splits)\n",
    "    skf.get_n_splits(X, y)\n",
    "    for train_index, test_index in skf.split(X, y):\n",
    "        X_train, X_test = X[train_index], X[test_index]\n",
    "        y_train, y_test = y[train_index], y[test_index]\n",
    "    return X_train, X_test, y_train, y_test"
   ]
  },
  {
   "cell_type": "code",
   "execution_count": 625,
   "metadata": {},
   "outputs": [],
   "source": [
    "class NDD(nn.Module):\n",
    "    def __init__(self, D_in=123, H1=300, H2=400, D_out=2, drop=0.5):\n",
    "        super(NDD, self).__init__()\n",
    "        # an affine operation: y = Wx + b\n",
    "        self.fc1 = nn.Linear(D_in, H1) # Fully Connected\n",
    "        self.fc2 = nn.Linear(H1, H2)\n",
    "        self.fc3 = nn.Linear(H2, D_out)\n",
    "        self.drop = nn.Dropout(drop)\n",
    "\n",
    "    def forward(self, x):\n",
    "        x = F.relu(self.fc1(x))\n",
    "        x = self.drop(x)\n",
    "        x = F.relu(self.fc2(x))\n",
    "        x = self.drop(x)\n",
    "        x = self.fc3(x)\n",
    "        return x"
   ]
  },
  {
   "cell_type": "code",
   "execution_count": 626,
   "metadata": {},
   "outputs": [],
   "source": [
    "def updateSimilarityDFSingleMetric(df, sim_type, metric, value):\n",
    "    df.loc[df['Similarity'] == sim_type, metric ] = value\n",
    "    return df"
   ]
  },
  {
   "cell_type": "code",
   "execution_count": 627,
   "metadata": {},
   "outputs": [],
   "source": [
    "def updateSimilarityDF(df, sim_type, AUROC, AUPR, F1, Rec, Prec):\n",
    "    df = updateSimilarityDFSingleMetric(df, sim_type, 'AUC', AUROC)\n",
    "    df = updateSimilarityDFSingleMetric(df, sim_type, 'AUPR', AUPR)\n",
    "    df = updateSimilarityDFSingleMetric(df, sim_type, 'F-measure', F1)\n",
    "    df = updateSimilarityDFSingleMetric(df, sim_type, 'Recall', Rec)\n",
    "    df = updateSimilarityDFSingleMetric(df, sim_type, 'Precision', Prec)\n",
    "    return df"
   ]
  },
  {
   "cell_type": "code",
   "execution_count": 628,
   "metadata": {},
   "outputs": [],
   "source": [
    "def getNetParamsStr(net, str_hidden_layers_params, net_params_to_print=[\"max_epochs\", \"batch_size\"]):\n",
    "    net_params = [val for sublist in [[x,net.get_params()[x]] for x in net_params_to_print] for val in sublist]\n",
    "    net_params_str = '-'.join(map(str, flattened))\n",
    "    return(net_params_str+str_hidden_layers_params)"
   ]
  },
  {
   "cell_type": "code",
   "execution_count": 629,
   "metadata": {},
   "outputs": [],
   "source": [
    "def writeReplicatedIndividualScoresCSV(net, df, destination, str_hidden_layers_params):\n",
    "    filePath = destination + \"replicatedIndividualScores_\" + getNetParamsStr(net, str_hidden_layers_params) + \".csv\"\n",
    "    df.to_csv(path_or_buf = filePath, index=False)"
   ]
  },
  {
   "cell_type": "code",
   "execution_count": 630,
   "metadata": {},
   "outputs": [],
   "source": [
    "def getNDDClassifier():\n",
    "    net = NeuralNetClassifier(\n",
    "        model,\n",
    "        criterion=nn.CrossEntropyLoss,\n",
    "        max_epochs=20,\n",
    "        optimizer=SGD,\n",
    "        optimizer__lr=0.01,\n",
    "        optimizer__momentum=0.9,    \n",
    "        optimizer__weight_decay=1e-6,    \n",
    "        optimizer__nesterov=True,    \n",
    "        batch_size=200,\n",
    "        callbacks=callbacks,\n",
    "        # Shuffle training data on each epoch\n",
    "        iterator_train__shuffle=True,\n",
    "        device=device,\n",
    "    )\n",
    "    return net"
   ]
  },
  {
   "cell_type": "markdown",
   "metadata": {},
   "source": [
    "# Run"
   ]
  },
  {
   "cell_type": "code",
   "execution_count": 631,
   "metadata": {},
   "outputs": [],
   "source": [
    "df_paperIndividualScores = pd.read_csv(pathPaperScores)\n",
    "\n",
    "df_replicatedIndividualScores = df_paperIndividualScores.copy()\n",
    "\n",
    "for col in df_replicatedIndividualScores.columns:\n",
    "    if col != 'Similarity':\n",
    "        df_replicatedIndividualScores[col].values[:] = 0"
   ]
  },
  {
   "cell_type": "code",
   "execution_count": 632,
   "metadata": {
    "scrolled": false
   },
   "outputs": [
    {
     "name": "stderr",
     "output_type": "stream",
     "text": [
      "/home/ubuntu/anaconda3/lib/python3.7/site-packages/sklearn/utils/validation.py:933: FutureWarning: Passing attributes to check_is_fitted is deprecated and will be removed in 0.23. The attributes argument is ignored.\n",
      "  \"argument is ignored.\", FutureWarning)\n",
      "/home/ubuntu/anaconda3/lib/python3.7/site-packages/sklearn/utils/validation.py:937: FutureWarning: Passing all_or_any to check_is_fitted is deprecated and will be removed in 0.23. The any_or_all argument is ignored.\n",
      "  \"argument is ignored.\", FutureWarning)\n"
     ]
    },
    {
     "name": "stdout",
     "output_type": "stream",
     "text": [
      "  epoch    train_loss    valid_acc    valid_loss     dur\n",
      "-------  ------------  -----------  ------------  ------\n",
      "      1        \u001b[36m0.6282\u001b[0m       \u001b[32m0.6758\u001b[0m        \u001b[35m0.6275\u001b[0m  1.8856\n",
      "      2        \u001b[36m0.6193\u001b[0m       0.6758        \u001b[35m0.6263\u001b[0m  1.9687\n",
      "      3        \u001b[36m0.6129\u001b[0m       0.6757        \u001b[35m0.6240\u001b[0m  1.9318\n",
      "      4        \u001b[36m0.6083\u001b[0m       0.6758        \u001b[35m0.6225\u001b[0m  1.9810\n",
      "      5        \u001b[36m0.6058\u001b[0m       0.6758        \u001b[35m0.6183\u001b[0m  2.2694\n",
      "      6        0.6060       0.6758        0.6209  2.3240\n",
      "      7        \u001b[36m0.6051\u001b[0m       \u001b[32m0.6785\u001b[0m        0.6244  1.9642\n",
      "      8        0.6099       0.6758        0.6277  1.9450\n",
      "      9        0.6135       0.6758        0.6258  1.9368\n",
      "     10        0.6115       0.6758        0.6281  2.3649\n",
      "     11        0.6142       0.6758        0.6236  2.3829\n",
      "     12        0.6101       0.6758        0.6256  2.0743\n",
      "     13        0.6122       0.6765        0.6254  1.9104\n",
      "     14        0.6102       0.6758        0.6284  2.0027\n",
      "     15        0.6147       0.6760        0.6265  1.8768\n",
      "     16        0.6137       0.6759        0.6272  1.9837\n",
      "     17        0.6114       0.6773        0.6263  2.0039\n",
      "     18        0.6078       0.6772        0.6287  1.9944\n",
      "     19        0.6078       0.6771        0.6345  1.9950\n",
      "     20        0.6096       0.6759        0.6246  1.9723\n",
      "chem 0.5034279703813386 0.3707883127432703 0.016485193853668464 0.008336764100452861 0.7297297297297297\n"
     ]
    },
    {
     "name": "stderr",
     "output_type": "stream",
     "text": [
      "/home/ubuntu/anaconda3/lib/python3.7/site-packages/sklearn/utils/validation.py:933: FutureWarning: Passing attributes to check_is_fitted is deprecated and will be removed in 0.23. The attributes argument is ignored.\n",
      "  \"argument is ignored.\", FutureWarning)\n",
      "/home/ubuntu/anaconda3/lib/python3.7/site-packages/sklearn/utils/validation.py:937: FutureWarning: Passing all_or_any to check_is_fitted is deprecated and will be removed in 0.23. The any_or_all argument is ignored.\n",
      "  \"argument is ignored.\", FutureWarning)\n"
     ]
    },
    {
     "name": "stdout",
     "output_type": "stream",
     "text": [
      "  epoch    train_loss    valid_acc    valid_loss     dur\n",
      "-------  ------------  -----------  ------------  ------\n",
      "      1        \u001b[36m0.6263\u001b[0m       \u001b[32m0.6763\u001b[0m        \u001b[35m0.6222\u001b[0m  1.9948\n",
      "      2        \u001b[36m0.5671\u001b[0m       \u001b[32m0.6776\u001b[0m        \u001b[35m0.6052\u001b[0m  1.7262\n",
      "      3        \u001b[36m0.4632\u001b[0m       \u001b[32m0.6928\u001b[0m        0.6081  1.7099\n",
      "      4        \u001b[36m0.4117\u001b[0m       \u001b[32m0.6966\u001b[0m        0.6228  1.9381\n",
      "      5        \u001b[36m0.3903\u001b[0m       \u001b[32m0.7193\u001b[0m        0.6164  2.2947\n",
      "      6        \u001b[36m0.3763\u001b[0m       0.7182        0.6075  2.2652\n",
      "      7        \u001b[36m0.3680\u001b[0m       \u001b[32m0.7322\u001b[0m        \u001b[35m0.5805\u001b[0m  1.9988\n",
      "      8        \u001b[36m0.3597\u001b[0m       0.7237        0.6210  1.9513\n",
      "      9        \u001b[36m0.3543\u001b[0m       \u001b[32m0.7334\u001b[0m        0.6054  2.0734\n",
      "     10        \u001b[36m0.3482\u001b[0m       0.7206        0.6363  1.9586\n",
      "     11        \u001b[36m0.3453\u001b[0m       0.7299        0.6255  2.0317\n",
      "     12        \u001b[36m0.3406\u001b[0m       \u001b[32m0.7350\u001b[0m        0.6227  2.1263\n",
      "     13        \u001b[36m0.3371\u001b[0m       \u001b[32m0.7432\u001b[0m        0.6063  2.0932\n",
      "     14        \u001b[36m0.3334\u001b[0m       0.7274        0.6342  2.0542\n",
      "     15        \u001b[36m0.3302\u001b[0m       0.7324        0.6558  2.0120\n",
      "     16        \u001b[36m0.3254\u001b[0m       0.7327        0.6512  2.2908\n",
      "     17        \u001b[36m0.3229\u001b[0m       0.7270        0.6856  2.4146\n",
      "     18        \u001b[36m0.3216\u001b[0m       0.7369        0.6291  2.4051\n",
      "     19        \u001b[36m0.3191\u001b[0m       0.7365        0.6520  2.2339\n",
      "     20        \u001b[36m0.3175\u001b[0m       0.7285        0.6710  2.0122\n",
      "target 0.6365752726156747 0.48225391753253 0.510043846232283 0.5148209139563606 0.5053546170943625\n"
     ]
    },
    {
     "name": "stderr",
     "output_type": "stream",
     "text": [
      "/home/ubuntu/anaconda3/lib/python3.7/site-packages/sklearn/utils/validation.py:933: FutureWarning: Passing attributes to check_is_fitted is deprecated and will be removed in 0.23. The attributes argument is ignored.\n",
      "  \"argument is ignored.\", FutureWarning)\n",
      "/home/ubuntu/anaconda3/lib/python3.7/site-packages/sklearn/utils/validation.py:937: FutureWarning: Passing all_or_any to check_is_fitted is deprecated and will be removed in 0.23. The any_or_all argument is ignored.\n",
      "  \"argument is ignored.\", FutureWarning)\n"
     ]
    },
    {
     "name": "stdout",
     "output_type": "stream",
     "text": [
      "  epoch    train_loss    valid_acc    valid_loss     dur\n",
      "-------  ------------  -----------  ------------  ------\n",
      "      1        \u001b[36m0.6071\u001b[0m       \u001b[32m0.6772\u001b[0m        \u001b[35m0.6157\u001b[0m  2.1323\n",
      "      2        \u001b[36m0.5718\u001b[0m       \u001b[32m0.6863\u001b[0m        0.6270  2.2506\n",
      "      3        \u001b[36m0.5447\u001b[0m       0.6790        0.6336  1.9920\n",
      "      4        \u001b[36m0.5270\u001b[0m       \u001b[32m0.6889\u001b[0m        0.6335  1.9485\n",
      "      5        \u001b[36m0.5168\u001b[0m       \u001b[32m0.7058\u001b[0m        0.6197  1.9478\n",
      "      6        \u001b[36m0.5117\u001b[0m       0.6987        \u001b[35m0.6120\u001b[0m  1.9184\n",
      "      7        \u001b[36m0.5083\u001b[0m       \u001b[32m0.7106\u001b[0m        0.6182  2.0045\n",
      "      8        \u001b[36m0.5038\u001b[0m       \u001b[32m0.7124\u001b[0m        \u001b[35m0.6103\u001b[0m  1.8930\n",
      "      9        \u001b[36m0.5001\u001b[0m       \u001b[32m0.7146\u001b[0m        \u001b[35m0.5951\u001b[0m  1.9484\n",
      "     10        \u001b[36m0.4986\u001b[0m       \u001b[32m0.7147\u001b[0m        0.6053  1.9508\n",
      "     11        \u001b[36m0.4962\u001b[0m       \u001b[32m0.7149\u001b[0m        0.6065  1.9645\n",
      "     12        \u001b[36m0.4949\u001b[0m       \u001b[32m0.7182\u001b[0m        0.6056  1.9803\n",
      "     13        \u001b[36m0.4921\u001b[0m       0.7163        0.6216  2.4544\n",
      "     14        \u001b[36m0.4909\u001b[0m       \u001b[32m0.7189\u001b[0m        0.6012  2.4782\n",
      "     15        \u001b[36m0.4896\u001b[0m       0.7071        \u001b[35m0.5940\u001b[0m  2.4195\n",
      "     16        \u001b[36m0.4895\u001b[0m       0.7159        0.6025  2.0776\n",
      "     17        \u001b[36m0.4880\u001b[0m       \u001b[32m0.7195\u001b[0m        \u001b[35m0.5917\u001b[0m  1.9872\n",
      "     18        \u001b[36m0.4870\u001b[0m       0.7173        0.6084  1.9318\n",
      "     19        \u001b[36m0.4864\u001b[0m       \u001b[32m0.7199\u001b[0m        0.6014  1.9554\n",
      "     20        \u001b[36m0.4857\u001b[0m       0.7139        0.6186  1.9427\n",
      "transporter 0.5929480035719402 0.42082198127211157 0.4441033241583739 0.43176204199258955 0.45717088055797733\n"
     ]
    },
    {
     "name": "stderr",
     "output_type": "stream",
     "text": [
      "/home/ubuntu/anaconda3/lib/python3.7/site-packages/sklearn/utils/validation.py:933: FutureWarning: Passing attributes to check_is_fitted is deprecated and will be removed in 0.23. The attributes argument is ignored.\n",
      "  \"argument is ignored.\", FutureWarning)\n",
      "/home/ubuntu/anaconda3/lib/python3.7/site-packages/sklearn/utils/validation.py:937: FutureWarning: Passing all_or_any to check_is_fitted is deprecated and will be removed in 0.23. The any_or_all argument is ignored.\n",
      "  \"argument is ignored.\", FutureWarning)\n"
     ]
    },
    {
     "name": "stdout",
     "output_type": "stream",
     "text": [
      "  epoch    train_loss    valid_acc    valid_loss     dur\n",
      "-------  ------------  -----------  ------------  ------\n",
      "      1        \u001b[36m0.6032\u001b[0m       \u001b[32m0.6944\u001b[0m        \u001b[35m0.5962\u001b[0m  1.9283\n",
      "      2        \u001b[36m0.5507\u001b[0m       \u001b[32m0.7195\u001b[0m        \u001b[35m0.5783\u001b[0m  1.9585\n",
      "      3        \u001b[36m0.5073\u001b[0m       0.7070        0.5874  1.9754\n",
      "      4        \u001b[36m0.4852\u001b[0m       0.7086        0.5854  1.9709\n",
      "      5        \u001b[36m0.4739\u001b[0m       0.7126        0.5895  1.9919\n",
      "      6        \u001b[36m0.4665\u001b[0m       0.7112        \u001b[35m0.5742\u001b[0m  1.9667\n",
      "      7        \u001b[36m0.4587\u001b[0m       0.7053        0.5936  1.8940\n",
      "      8        \u001b[36m0.4548\u001b[0m       0.7056        0.5845  2.0745\n",
      "      9        \u001b[36m0.4522\u001b[0m       \u001b[32m0.7239\u001b[0m        \u001b[35m0.5707\u001b[0m  2.4746\n",
      "     10        \u001b[36m0.4473\u001b[0m       0.7075        0.5918  2.4969\n",
      "     11        \u001b[36m0.4453\u001b[0m       0.7090        0.5987  2.4004\n",
      "     12        \u001b[36m0.4428\u001b[0m       0.7141        0.5770  2.0331\n",
      "     13        \u001b[36m0.4408\u001b[0m       0.7142        0.5765  1.9544\n",
      "     14        \u001b[36m0.4382\u001b[0m       0.7107        0.5978  1.9556\n",
      "     15        \u001b[36m0.4374\u001b[0m       0.7099        0.6008  1.9993\n",
      "     16        \u001b[36m0.4345\u001b[0m       0.7115        0.5948  1.9833\n",
      "     17        \u001b[36m0.4333\u001b[0m       0.7127        0.5994  1.9815\n",
      "     18        \u001b[36m0.4325\u001b[0m       0.7139        0.5774  1.9148\n",
      "     19        \u001b[36m0.4308\u001b[0m       0.7115        0.5929  1.9441\n",
      "     20        \u001b[36m0.4295\u001b[0m       0.7089        0.5886  1.9639\n",
      "enzyme 0.6176284992224306 0.49677802489333955 0.5204540928101972 0.6723960477562783 0.42452401065696277\n"
     ]
    },
    {
     "name": "stderr",
     "output_type": "stream",
     "text": [
      "/home/ubuntu/anaconda3/lib/python3.7/site-packages/sklearn/utils/validation.py:933: FutureWarning: Passing attributes to check_is_fitted is deprecated and will be removed in 0.23. The attributes argument is ignored.\n",
      "  \"argument is ignored.\", FutureWarning)\n",
      "/home/ubuntu/anaconda3/lib/python3.7/site-packages/sklearn/utils/validation.py:937: FutureWarning: Passing all_or_any to check_is_fitted is deprecated and will be removed in 0.23. The any_or_all argument is ignored.\n",
      "  \"argument is ignored.\", FutureWarning)\n"
     ]
    },
    {
     "name": "stdout",
     "output_type": "stream",
     "text": [
      "  epoch    train_loss    valid_acc    valid_loss     dur\n",
      "-------  ------------  -----------  ------------  ------\n",
      "      1        \u001b[36m0.6141\u001b[0m       \u001b[32m0.6765\u001b[0m        \u001b[35m0.6201\u001b[0m  1.9416\n",
      "      2        \u001b[36m0.5464\u001b[0m       \u001b[32m0.6993\u001b[0m        \u001b[35m0.6066\u001b[0m  1.9777\n",
      "      3        \u001b[36m0.4890\u001b[0m       0.6458        0.6537  1.9733\n",
      "      4        \u001b[36m0.4609\u001b[0m       0.6668        0.6459  1.9491\n",
      "      5        \u001b[36m0.4434\u001b[0m       0.6306        0.7027  1.9387\n",
      "      6        \u001b[36m0.4310\u001b[0m       0.6777        0.6466  1.9670\n",
      "      7        \u001b[36m0.4236\u001b[0m       \u001b[32m0.7091\u001b[0m        \u001b[35m0.5999\u001b[0m  1.9494\n",
      "      8        \u001b[36m0.4145\u001b[0m       0.7065        0.6160  1.9262\n",
      "      9        \u001b[36m0.4096\u001b[0m       \u001b[32m0.7193\u001b[0m        0.6062  1.9442\n",
      "     10        \u001b[36m0.4018\u001b[0m       0.6727        0.6833  2.0204\n",
      "     11        \u001b[36m0.3979\u001b[0m       \u001b[32m0.7252\u001b[0m        0.6207  1.9761\n",
      "     12        \u001b[36m0.3923\u001b[0m       0.6782        0.6905  2.0944\n",
      "     13        \u001b[36m0.3904\u001b[0m       0.6910        0.6722  2.0765\n",
      "     14        \u001b[36m0.3871\u001b[0m       0.6763        0.6725  1.9439\n",
      "     15        \u001b[36m0.3858\u001b[0m       \u001b[32m0.7263\u001b[0m        0.6148  2.1945\n",
      "     16        \u001b[36m0.3826\u001b[0m       0.7257        0.6106  2.1078\n",
      "     17        \u001b[36m0.3790\u001b[0m       0.7037        0.6238  2.0869\n",
      "     18        \u001b[36m0.3764\u001b[0m       0.7038        0.6636  2.8723\n",
      "     19        \u001b[36m0.3726\u001b[0m       0.7127        0.6577  2.3076\n",
      "     20        \u001b[36m0.3711\u001b[0m       \u001b[32m0.7319\u001b[0m        0.6117  1.9744\n",
      "pathway 0.5977482655600098 0.44625723361169034 0.4693583964707011 0.5037052284890902 0.4393966600826001\n"
     ]
    },
    {
     "name": "stderr",
     "output_type": "stream",
     "text": [
      "/home/ubuntu/anaconda3/lib/python3.7/site-packages/sklearn/utils/validation.py:933: FutureWarning: Passing attributes to check_is_fitted is deprecated and will be removed in 0.23. The attributes argument is ignored.\n",
      "  \"argument is ignored.\", FutureWarning)\n",
      "/home/ubuntu/anaconda3/lib/python3.7/site-packages/sklearn/utils/validation.py:937: FutureWarning: Passing all_or_any to check_is_fitted is deprecated and will be removed in 0.23. The any_or_all argument is ignored.\n",
      "  \"argument is ignored.\", FutureWarning)\n"
     ]
    },
    {
     "name": "stdout",
     "output_type": "stream",
     "text": [
      "  epoch    train_loss    valid_acc    valid_loss     dur\n",
      "-------  ------------  -----------  ------------  ------\n",
      "      1        \u001b[36m0.5849\u001b[0m       \u001b[32m0.7114\u001b[0m        \u001b[35m0.5755\u001b[0m  2.0112\n",
      "      2        \u001b[36m0.4560\u001b[0m       \u001b[32m0.7126\u001b[0m        \u001b[35m0.5661\u001b[0m  1.9632\n",
      "      3        \u001b[36m0.3821\u001b[0m       \u001b[32m0.7184\u001b[0m        0.5822  1.9861\n",
      "      4        \u001b[36m0.3459\u001b[0m       0.7154        0.6193  1.9896\n",
      "      5        \u001b[36m0.3250\u001b[0m       0.7073        0.6644  1.9981\n",
      "      6        \u001b[36m0.3102\u001b[0m       0.7113        0.6807  1.9921\n",
      "      7        \u001b[36m0.3014\u001b[0m       0.7110        0.6893  1.9866\n",
      "      8        \u001b[36m0.2937\u001b[0m       \u001b[32m0.7239\u001b[0m        0.6657  2.0125\n",
      "      9        \u001b[36m0.2849\u001b[0m       0.7173        0.6897  1.9327\n",
      "     10        \u001b[36m0.2795\u001b[0m       0.7234        0.6835  1.9823\n",
      "     11        \u001b[36m0.2753\u001b[0m       0.7196        0.7187  1.9915\n",
      "     12        \u001b[36m0.2707\u001b[0m       0.7236        0.6964  1.9750\n",
      "     13        \u001b[36m0.2681\u001b[0m       0.7210        0.7082  1.9986\n",
      "     14        \u001b[36m0.2619\u001b[0m       0.7206        0.7338  1.9770\n",
      "     15        \u001b[36m0.2604\u001b[0m       \u001b[32m0.7263\u001b[0m        0.7048  2.0100\n",
      "     16        \u001b[36m0.2569\u001b[0m       \u001b[32m0.7327\u001b[0m        0.7076  1.9858\n",
      "     17        \u001b[36m0.2525\u001b[0m       0.7223        0.7717  1.9810\n",
      "     18        \u001b[36m0.2511\u001b[0m       0.7319        0.7173  2.0155\n",
      "     19        \u001b[36m0.2484\u001b[0m       0.7241        0.7328  2.4425\n",
      "     20        \u001b[36m0.2461\u001b[0m       0.7220        0.7681  2.0049\n",
      "indication 0.6849664612920969 0.6082905116097612 0.5798574821852732 0.6281391519143681 0.538468325392624\n"
     ]
    },
    {
     "name": "stderr",
     "output_type": "stream",
     "text": [
      "/home/ubuntu/anaconda3/lib/python3.7/site-packages/sklearn/utils/validation.py:933: FutureWarning: Passing attributes to check_is_fitted is deprecated and will be removed in 0.23. The attributes argument is ignored.\n",
      "  \"argument is ignored.\", FutureWarning)\n",
      "/home/ubuntu/anaconda3/lib/python3.7/site-packages/sklearn/utils/validation.py:937: FutureWarning: Passing all_or_any to check_is_fitted is deprecated and will be removed in 0.23. The any_or_all argument is ignored.\n",
      "  \"argument is ignored.\", FutureWarning)\n"
     ]
    },
    {
     "name": "stdout",
     "output_type": "stream",
     "text": [
      "  epoch    train_loss    valid_acc    valid_loss     dur\n",
      "-------  ------------  -----------  ------------  ------\n",
      "      1        \u001b[36m0.5889\u001b[0m       \u001b[32m0.6937\u001b[0m        \u001b[35m0.5844\u001b[0m  1.9909\n",
      "      2        \u001b[36m0.5545\u001b[0m       \u001b[32m0.7007\u001b[0m        0.5897  2.0091\n",
      "      3        \u001b[36m0.5338\u001b[0m       0.6892        0.6064  1.9662\n",
      "      4        \u001b[36m0.5229\u001b[0m       0.6843        0.6553  1.9431\n",
      "      5        \u001b[36m0.5228\u001b[0m       \u001b[32m0.7064\u001b[0m        \u001b[35m0.5818\u001b[0m  1.9515\n",
      "      6        \u001b[36m0.5195\u001b[0m       \u001b[32m0.7077\u001b[0m        \u001b[35m0.5773\u001b[0m  2.0358\n",
      "      7        \u001b[36m0.5190\u001b[0m       \u001b[32m0.7151\u001b[0m        \u001b[35m0.5678\u001b[0m  2.0173\n",
      "      8        \u001b[36m0.5180\u001b[0m       \u001b[32m0.7239\u001b[0m        \u001b[35m0.5647\u001b[0m  1.9607\n",
      "      9        0.5225       0.6943        0.5895  1.9713\n",
      "     10        0.5205       0.6899        0.5883  1.9248\n",
      "     11        0.5230       0.7018        0.5733  2.3681\n",
      "     12        0.5263       0.6959        0.5850  2.3733\n",
      "     13        0.5230       0.6979        0.5809  2.3845\n",
      "     14        0.5288       0.7123        0.5889  2.4455\n",
      "     15        0.5237       0.6913        0.5957  2.4473\n",
      "     16        0.5330       0.7129        0.5707  1.9482\n",
      "     17        0.5283       0.6840        0.5882  1.9736\n",
      "     18        0.5267       0.6892        0.6910  1.9481\n",
      "     19        0.5268       0.7079        0.5752  1.9614\n",
      "     20        0.5347       0.6845        0.5979  1.9523\n",
      "sideeffect 0.5500630462517399 0.35279234448866786 0.5009900404882229 0.8723754631535612 0.3513950499564695\n"
     ]
    },
    {
     "name": "stderr",
     "output_type": "stream",
     "text": [
      "/home/ubuntu/anaconda3/lib/python3.7/site-packages/sklearn/utils/validation.py:933: FutureWarning: Passing attributes to check_is_fitted is deprecated and will be removed in 0.23. The attributes argument is ignored.\n",
      "  \"argument is ignored.\", FutureWarning)\n",
      "/home/ubuntu/anaconda3/lib/python3.7/site-packages/sklearn/utils/validation.py:937: FutureWarning: Passing all_or_any to check_is_fitted is deprecated and will be removed in 0.23. The any_or_all argument is ignored.\n",
      "  \"argument is ignored.\", FutureWarning)\n"
     ]
    },
    {
     "name": "stdout",
     "output_type": "stream",
     "text": [
      "  epoch    train_loss    valid_acc    valid_loss     dur\n",
      "-------  ------------  -----------  ------------  ------\n",
      "      1        \u001b[36m0.5733\u001b[0m       \u001b[32m0.7043\u001b[0m        \u001b[35m0.5590\u001b[0m  1.9715\n",
      "      2        \u001b[36m0.5077\u001b[0m       \u001b[32m0.7405\u001b[0m        \u001b[35m0.5121\u001b[0m  1.9644\n",
      "      3        \u001b[36m0.4757\u001b[0m       \u001b[32m0.7614\u001b[0m        \u001b[35m0.5002\u001b[0m  1.9753\n",
      "      4        \u001b[36m0.4632\u001b[0m       0.6963        0.5299  1.9086\n",
      "      5        \u001b[36m0.4596\u001b[0m       \u001b[32m0.7621\u001b[0m        \u001b[35m0.4986\u001b[0m  1.9622\n",
      "      6        0.4606       \u001b[32m0.7689\u001b[0m        \u001b[35m0.4818\u001b[0m  1.9600\n",
      "      7        0.4656       0.7177        0.5599  1.9635\n",
      "      8        0.4626       0.7661        0.4855  1.9532\n",
      "      9        0.4627       0.7526        0.5011  1.9567\n",
      "     10        0.4617       0.7133        0.5354  1.9622\n",
      "     11        \u001b[36m0.4587\u001b[0m       0.7101        0.5354  1.9446\n",
      "     12        \u001b[36m0.4585\u001b[0m       0.7144        0.5286  1.7510\n",
      "     13        0.4705       0.7515        0.5130  1.7364\n",
      "     14        0.4766       \u001b[32m0.7691\u001b[0m        0.4848  1.6991\n",
      "     15        0.4741       0.7174        0.5372  1.7114\n",
      "     16        0.4740       0.7297        0.5194  2.0963\n",
      "     17        0.4880       0.7461        0.5231  1.9301\n",
      "     18        0.4891       0.6689        0.5840  2.2314\n",
      "     19        0.4945       0.7270        0.5419  2.0383\n",
      "     20        0.4895       0.7691        0.4870  1.9488\n",
      "offsideeffect 0.7412231878157685 0.7075307466626528 0.6496950411031557 0.8825648414985591 0.5140579101972303\n"
     ]
    }
   ],
   "source": [
    "do_prepare_data = False\n",
    "do_train_model = False\n",
    "\n",
    "device = torch.device(\"cuda:0\" if torch.cuda.is_available() else \"cpu\")\n",
    "soft = nn.Softmax(dim=1)\n",
    "similaritiesToRun = df_paperIndividualScores['Similarity']\n",
    "# similaritiesToRun = [\"chem\"]\n",
    "\n",
    "for similarity in similaritiesToRun:\n",
    "    input_fea = pathInput+DS1_path+\"/\" + similarity + \"_Jacarrd_sim.csv\"\n",
    "    input_lab = pathInput+DS1_path+\"/drug_drug_matrix.csv\"\n",
    "    dataPicklePath = pathPickles+\"data_X_y_\" + similarity + \"_Jaccard.p\"\n",
    "\n",
    "    # Prepare data if not available\n",
    "    if do_prepare_data:\n",
    "        X,y = prepare_data(input_fea, input_lab, seperate = False)\n",
    "\n",
    "        with open(dataPicklePath, 'wb') as f:\n",
    "            pickle.dump([X, y], f)\n",
    "\n",
    "    # Load X,y and split in to train, test\n",
    "    with open(dataPicklePath, 'rb') as f:\n",
    "        X, y = pickle.load(f)\n",
    "    \n",
    "    X = X.astype(np.float32)\n",
    "    y = y.astype(np.int64)    \n",
    "    X_train, X_test, y_train, y_test = do_stratifiedKFold(X,y,n_splits=5)\n",
    "    \n",
    "    # Define model\n",
    "    D_in, H1, H2, D_out, drop = X.shape[1], 300, 400, 2, 0.5\n",
    "    str_hidden_layers_params = \"-H1-\" + str(H1) + \"-H2-\" + str(H2)\n",
    "    model = NDD(D_in, H1, H2, D_out, drop)\n",
    "    callbacks = []\n",
    "\n",
    "    # Create Network Classifier\n",
    "    net = getNDDClassifier()\n",
    "    \n",
    "    # Fit and save OR load model\n",
    "    modelPicklePath = pathPickles+\"model_params/model_params\" + str_hidden_layers_params+ \"_\" + similarity + \".p\"\n",
    "    if do_train_model:\n",
    "        net.fit(X_train, y_train)\n",
    "        net.save_params(f_params=modelPicklePath)\n",
    "    else:\n",
    "        net.initialize()  # This is important!\n",
    "        net.load_params(f_params=modelPicklePath)\n",
    "    \n",
    "    # Make predictions\n",
    "    y_pred = net.predict(X_test)\n",
    "    lr_probs = soft(net.forward(X_test))[:,1]\n",
    "    lr_precision, lr_recall, _ = precision_recall_curve(y_test, lr_probs)\n",
    "\n",
    "    AUROC, AUPR, F1, Rec, Prec = roc_auc_score(y_test, y_pred), auc(lr_recall, lr_precision), f1_score(y_test, y_pred), recall_score(y_test, y_pred), precision_score(y_test, y_pred)\n",
    "    print(similarity, AUROC, AUPR, F1, Rec, Prec)\n",
    "    \n",
    "    # Fill replicated metrics\n",
    "    updateSimilarityDF(df_replicatedIndividualScores, similarity, AUROC, AUPR, F1, Rec, Prec)\n",
    "    \n",
    "# Write CSV\n",
    "writeReplicatedIndividualScoresCSV(net, df_replicatedIndividualScores, pathRuns, str_hidden_layers_params)"
   ]
  },
  {
   "cell_type": "markdown",
   "metadata": {},
   "source": [
    "# Compare to Paper"
   ]
  },
  {
   "cell_type": "code",
   "execution_count": 633,
   "metadata": {
    "scrolled": true
   },
   "outputs": [
    {
     "name": "stdout",
     "output_type": "stream",
     "text": [
      "      Similarity    AUC   AUPR  F-measure  Recall  Precision\n",
      "0           chem  0.631  0.455      0.527   0.899      0.373\n",
      "1         target  0.787  0.642      0.617   0.721      0.540\n",
      "2    transporter  0.682  0.568      0.519   0.945      0.358\n",
      "3         enzyme  0.734  0.599      0.552   0.579      0.529\n",
      "4        pathway  0.767  0.623      0.587   0.650      0.536\n",
      "5     indication  0.802  0.654      0.632   0.740      0.551\n",
      "6     sideeffect  0.778  0.601      0.619   0.748      0.528\n",
      "7  offsideeffect  0.782  0.606      0.617   0.764      0.517\n"
     ]
    }
   ],
   "source": [
    "print(df_paperIndividualScores)"
   ]
  },
  {
   "cell_type": "code",
   "execution_count": 634,
   "metadata": {},
   "outputs": [
    {
     "name": "stdout",
     "output_type": "stream",
     "text": [
      "      Similarity       AUC      AUPR  F-measure    Recall  Precision\n",
      "0           chem  0.503428  0.370788   0.016485  0.008337   0.729730\n",
      "1         target  0.636575  0.482254   0.510044  0.514821   0.505355\n",
      "2    transporter  0.592948  0.420822   0.444103  0.431762   0.457171\n",
      "3         enzyme  0.617628  0.496778   0.520454  0.672396   0.424524\n",
      "4        pathway  0.597748  0.446257   0.469358  0.503705   0.439397\n",
      "5     indication  0.684966  0.608291   0.579857  0.628139   0.538468\n",
      "6     sideeffect  0.550063  0.352792   0.500990  0.872375   0.351395\n",
      "7  offsideeffect  0.741223  0.707531   0.649695  0.882565   0.514058\n"
     ]
    }
   ],
   "source": [
    "print(df_replicatedIndividualScores)"
   ]
  },
  {
   "cell_type": "code",
   "execution_count": 635,
   "metadata": {
    "scrolled": false
   },
   "outputs": [],
   "source": [
    "diff_metrics = ['AUC', 'AUPR', 'F-measure', 'Recall', 'Precision']\n",
    "df_diff = df_paperIndividualScores[diff_metrics] - df_replicatedIndividualScores[diff_metrics]\n",
    "df_diff_abs = df_diff.abs()\n",
    "df_diff_percent = (df_diff_abs / df_paperIndividualScores[diff_metrics]) * 100"
   ]
  },
  {
   "cell_type": "code",
   "execution_count": 636,
   "metadata": {},
   "outputs": [
    {
     "data": {
      "text/html": [
       "<div>\n",
       "<style scoped>\n",
       "    .dataframe tbody tr th:only-of-type {\n",
       "        vertical-align: middle;\n",
       "    }\n",
       "\n",
       "    .dataframe tbody tr th {\n",
       "        vertical-align: top;\n",
       "    }\n",
       "\n",
       "    .dataframe thead th {\n",
       "        text-align: right;\n",
       "    }\n",
       "</style>\n",
       "<table border=\"1\" class=\"dataframe\">\n",
       "  <thead>\n",
       "    <tr style=\"text-align: right;\">\n",
       "      <th></th>\n",
       "      <th>AUC</th>\n",
       "      <th>AUPR</th>\n",
       "      <th>F-measure</th>\n",
       "      <th>Recall</th>\n",
       "      <th>Precision</th>\n",
       "    </tr>\n",
       "  </thead>\n",
       "  <tbody>\n",
       "    <tr>\n",
       "      <th>0</th>\n",
       "      <td>0.127572</td>\n",
       "      <td>0.084212</td>\n",
       "      <td>0.510515</td>\n",
       "      <td>0.890663</td>\n",
       "      <td>-0.356730</td>\n",
       "    </tr>\n",
       "    <tr>\n",
       "      <th>1</th>\n",
       "      <td>0.150425</td>\n",
       "      <td>0.159746</td>\n",
       "      <td>0.106956</td>\n",
       "      <td>0.206179</td>\n",
       "      <td>0.034645</td>\n",
       "    </tr>\n",
       "    <tr>\n",
       "      <th>2</th>\n",
       "      <td>0.089052</td>\n",
       "      <td>0.147178</td>\n",
       "      <td>0.074897</td>\n",
       "      <td>0.513238</td>\n",
       "      <td>-0.099171</td>\n",
       "    </tr>\n",
       "    <tr>\n",
       "      <th>3</th>\n",
       "      <td>0.116372</td>\n",
       "      <td>0.102222</td>\n",
       "      <td>0.031546</td>\n",
       "      <td>-0.093396</td>\n",
       "      <td>0.104476</td>\n",
       "    </tr>\n",
       "    <tr>\n",
       "      <th>4</th>\n",
       "      <td>0.169252</td>\n",
       "      <td>0.176743</td>\n",
       "      <td>0.117642</td>\n",
       "      <td>0.146295</td>\n",
       "      <td>0.096603</td>\n",
       "    </tr>\n",
       "    <tr>\n",
       "      <th>5</th>\n",
       "      <td>0.117034</td>\n",
       "      <td>0.045709</td>\n",
       "      <td>0.052143</td>\n",
       "      <td>0.111861</td>\n",
       "      <td>0.012532</td>\n",
       "    </tr>\n",
       "    <tr>\n",
       "      <th>6</th>\n",
       "      <td>0.227937</td>\n",
       "      <td>0.248208</td>\n",
       "      <td>0.118010</td>\n",
       "      <td>-0.124375</td>\n",
       "      <td>0.176605</td>\n",
       "    </tr>\n",
       "    <tr>\n",
       "      <th>7</th>\n",
       "      <td>0.040777</td>\n",
       "      <td>-0.101531</td>\n",
       "      <td>-0.032695</td>\n",
       "      <td>-0.118565</td>\n",
       "      <td>0.002942</td>\n",
       "    </tr>\n",
       "  </tbody>\n",
       "</table>\n",
       "</div>"
      ],
      "text/plain": [
       "        AUC      AUPR  F-measure    Recall  Precision\n",
       "0  0.127572  0.084212   0.510515  0.890663  -0.356730\n",
       "1  0.150425  0.159746   0.106956  0.206179   0.034645\n",
       "2  0.089052  0.147178   0.074897  0.513238  -0.099171\n",
       "3  0.116372  0.102222   0.031546 -0.093396   0.104476\n",
       "4  0.169252  0.176743   0.117642  0.146295   0.096603\n",
       "5  0.117034  0.045709   0.052143  0.111861   0.012532\n",
       "6  0.227937  0.248208   0.118010 -0.124375   0.176605\n",
       "7  0.040777 -0.101531  -0.032695 -0.118565   0.002942"
      ]
     },
     "execution_count": 636,
     "metadata": {},
     "output_type": "execute_result"
    }
   ],
   "source": [
    "df_diff"
   ]
  },
  {
   "cell_type": "code",
   "execution_count": 637,
   "metadata": {},
   "outputs": [
    {
     "data": {
      "text/plain": [
       "<matplotlib.axes._subplots.AxesSubplot at 0x7f73b95b0128>"
      ]
     },
     "execution_count": 637,
     "metadata": {},
     "output_type": "execute_result"
    },
    {
     "data": {
      "image/png": "[encoded data removed]",
      "text/plain": [
       "<Figure size 432x288 with 2 Axes>"
      ]
     },
     "metadata": {
      "needs_background": "light"
     },
     "output_type": "display_data"
    }
   ],
   "source": [
    "from seaborn import heatmap\n",
    "heatmap(df_diff, yticklabels=df_paperIndividualScores[\"Similarity\"])"
   ]
  },
  {
   "cell_type": "code",
   "execution_count": 638,
   "metadata": {},
   "outputs": [
    {
     "data": {
      "text/plain": [
       "<matplotlib.axes._subplots.AxesSubplot at 0x7f73b8e58cc0>"
      ]
     },
     "execution_count": 638,
     "metadata": {},
     "output_type": "execute_result"
    },
    {
     "data": {
      "image/png": "[encoded data removed]",
      "text/plain": [
       "<Figure size 432x288 with 2 Axes>"
      ]
     },
     "metadata": {
      "needs_background": "light"
     },
     "output_type": "display_data"
    }
   ],
   "source": [
    "heatmap(df_diff_abs, yticklabels=df_paperIndividualScores[\"Similarity\"])"
   ]
  },
  {
   "cell_type": "code",
   "execution_count": 639,
   "metadata": {},
   "outputs": [
    {
     "data": {
      "text/plain": [
       "<matplotlib.axes._subplots.AxesSubplot at 0x7f73b95b0898>"
      ]
     },
     "execution_count": 639,
     "metadata": {},
     "output_type": "execute_result"
    },
    {
     "data": {
      "image/png": "[encoded data removed]",
      "text/plain": [
       "<Figure size 432x288 with 2 Axes>"
      ]
     },
     "metadata": {
      "needs_background": "light"
     },
     "output_type": "display_data"
    }
   ],
   "source": [
    "heatmap(df_diff_percent, yticklabels=df_paperIndividualScores[\"Similarity\"])"
   ]
  },
  {
   "cell_type": "code",
   "execution_count": 640,
   "metadata": {},
   "outputs": [
    {
     "data": {
      "text/plain": [
       "0.04994464020124655"
      ]
     },
     "execution_count": 640,
     "metadata": {},
     "output_type": "execute_result"
    }
   ],
   "source": [
    "from sklearn.metrics import mean_squared_error\n",
    "mean_squared_error(df_paperIndividualScores[['AUC', 'AUPR', 'F-measure', 'Recall', 'Precision']],\n",
    "                   df_replicatedIndividualScores[['AUC', 'AUPR', 'F-measure', 'Recall', 'Precision']])"
   ]
  },
  {
   "cell_type": "code",
   "execution_count": null,
   "metadata": {},
   "outputs": [],
   "source": []
  }
 ],
 "metadata": {
  "kernelspec": {
   "display_name": "Python 3",
   "language": "python",
   "name": "python3"
  },
  "language_info": {
   "codemirror_mode": {
    "name": "ipython",
    "version": 3
   },
   "file_extension": ".py",
   "mimetype": "text/x-python",
   "name": "python",
   "nbconvert_exporter": "python",
   "pygments_lexer": "ipython3",
   "version": "3.7.3"
  }
 },
 "nbformat": 4,
 "nbformat_minor": 2
}
