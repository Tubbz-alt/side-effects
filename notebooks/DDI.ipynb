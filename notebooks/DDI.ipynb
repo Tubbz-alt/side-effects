{
 "cells": [
  {
   "cell_type": "code",
   "execution_count": 18,
   "metadata": {},
   "outputs": [],
   "source": [
    "import numpy as np\n",
    "import os\n",
    "import matplotlib.pyplot as plt\n",
    "import glob # list files in a directory"
   ]
  },
  {
   "cell_type": "code",
   "execution_count": 23,
   "metadata": {},
   "outputs": [],
   "source": [
    "import math\n",
    "from numpy import linalg as LA\n",
    "import gzip\n",
    "import pandas as pd\n",
    "import pdb\n",
    "import random\n",
    "from random import randint\n",
    "import scipy.io\n",
    "import sklearn\n",
    "from operator import itemgetter\n",
    "from heapq import nlargest\n",
    "from scipy.spatial.distance import pdist, squareform"
   ]
  },
  {
   "cell_type": "code",
   "execution_count": 24,
   "metadata": {},
   "outputs": [
    {
     "name": "stdout",
     "output_type": "stream",
     "text": [
      "The nltk version is 3.4.\n",
      "The scikit-learn version is 0.20.3.\n"
     ]
    }
   ],
   "source": [
    "import nltk\n",
    "import sklearn\n",
    "\n",
    "print('The nltk version is {}.'.format(nltk.__version__))\n",
    "print('The scikit-learn version is {}.'.format(sklearn.__version__))"
   ]
  },
  {
   "cell_type": "code",
   "execution_count": 28,
   "metadata": {},
   "outputs": [],
   "source": [
    "from sklearn import svm\n",
    "from sklearn.preprocessing import LabelEncoder\n",
    "from sklearn.svm import LinearSVC\n",
    "from sklearn.ensemble import RandomForestClassifier\n",
    "from sklearn.ensemble import AdaBoostClassifier\n",
    "from sklearn.tree import DecisionTreeClassifier\n",
    "from sklearn.decomposition import PCA\n",
    "from sklearn import metrics\n",
    "from sklearn.linear_model import LogisticRegression\n",
    "from sklearn.metrics import precision_score\n",
    "from sklearn.metrics import recall_score\n",
    "from sklearn.calibration import CalibratedClassifierCV\n",
    "from sklearn.linear_model import LogisticRegression\n",
    "from sklearn.metrics import roc_curve, auc\n",
    "from sklearn.metrics import precision_recall_curve\n",
    "from sklearn.metrics.pairwise import euclidean_distances\n",
    "from sklearn.metrics import f1_score"
   ]
  },
  {
   "cell_type": "code",
   "execution_count": 30,
   "metadata": {},
   "outputs": [],
   "source": [
    "from deap import algorithms\n",
    "from deap import base\n",
    "from deap import creator\n",
    "from deap import tools"
   ]
  },
  {
   "cell_type": "code",
   "execution_count": 31,
   "metadata": {},
   "outputs": [
    {
     "name": "stderr",
     "output_type": "stream",
     "text": [
      "Using TensorFlow backend.\n"
     ]
    }
   ],
   "source": [
    "from keras.models import Sequential\n",
    "from keras.layers.core import Dropout, Activation, Flatten\n",
    "from keras.layers.normalization import BatchNormalization\n",
    "from keras.layers.advanced_activations import PReLU\n",
    "from keras.utils import np_utils, generic_utils\n",
    "from keras.optimizers import SGD, RMSprop, Adadelta, Adagrad, Adam\n",
    "from keras.layers import normalization\n",
    "from keras.layers.recurrent import LSTM\n",
    "from keras.layers.embeddings import Embedding\n",
    "from keras import regularizers\n",
    "from keras.constraints import maxnorm\n",
    "from keras.layers import  normalization\n",
    "from keras import regularizers\n",
    "from keras.layers import merge\n",
    "from keras.constraints import maxnorm\n",
    "from keras.layers import Input,Dense,Add\n",
    "from keras.layers.merge import concatenate\n",
    "from keras import optimizers"
   ]
  },
  {
   "cell_type": "code",
   "execution_count": 32,
   "metadata": {
    "scrolled": true
   },
   "outputs": [],
   "source": [
    "# import configurations (file paths, etc.)\n",
    "import yaml\n",
    "try:\n",
    "    from yaml import CLoader as Loader, CDumper as Dumper\n",
    "except ImportError:\n",
    "    from yaml import Loader, Dumper\n",
    "    \n",
    "configFile = '../cluster/data/medinfmk/ddi/config/config.yml'\n",
    "\n",
    "with open(configFile, 'r') as ymlfile:\n",
    "    cfg = yaml.load(ymlfile, Loader=Loader)\n",
    "    \n",
    "#print(cfg)"
   ]
  },
  {
   "cell_type": "code",
   "execution_count": 86,
   "metadata": {},
   "outputs": [],
   "source": [
    "pathInput = cfg['filePaths']['dirRaw']\n",
    "pathOutput = cfg['filePaths']['dirProcessed']\n",
    "# path to store python binary files (pickles)\n",
    "# in order not to recalculate them every time\n",
    "pathPickles = cfg['filePaths']['dirProcessedFiles']['dirPickles']\n",
    "datasetDirs = cfg['filePaths']['dirRawDatasets']\n",
    "DS1_path = str(datasetDirs[0])"
   ]
  },
  {
   "cell_type": "code",
   "execution_count": 34,
   "metadata": {
    "collapsed": true
   },
   "outputs": [
    {
     "name": "stdout",
     "output_type": "stream",
     "text": [
      "['../cluster/data/medinfmk/ddi/raw/DS1/offsideeffect_Jacarrd_sim.csv', '../cluster/data/medinfmk/ddi/raw/DS1/pathway_Jacarrd_sim.csv', '../cluster/data/medinfmk/ddi/raw/DS1/drug_list.txt', '../cluster/data/medinfmk/ddi/raw/DS1/indication_Jacarrd_sim.csv', '../cluster/data/medinfmk/ddi/raw/DS1/drug_transporter_index.txt', '../cluster/data/medinfmk/ddi/raw/DS1/chem_Jacarrd_sim.csv', '../cluster/data/medinfmk/ddi/raw/DS1/drug_pathway_index.txt', '../cluster/data/medinfmk/ddi/raw/DS1/target_Jacarrd_sim.csv', '../cluster/data/medinfmk/ddi/raw/DS1/drug_enzyme_index.txt', '../cluster/data/medinfmk/ddi/raw/DS1/drug_target_index.txt', '../cluster/data/medinfmk/ddi/raw/DS1/drug_offSideEffect_index.txt', '../cluster/data/medinfmk/ddi/raw/DS1/drug_SideEffect_index.txt', '../cluster/data/medinfmk/ddi/raw/DS1/drug_drug_matrix.csv', '../cluster/data/medinfmk/ddi/raw/DS1/transporter_Jacarrd_sim.csv', '../cluster/data/medinfmk/ddi/raw/DS1/sideeffect_Jacarrd_sim.csv', '../cluster/data/medinfmk/ddi/raw/DS1/enzyme_Jacarrd_sim.csv']\n",
      "/n\n",
      "['../cluster/data/medinfmk/ddi/raw/DS2/ddiMatrix.csv', '../cluster/data/medinfmk/ddi/raw/DS2/simMatrix.csv']\n",
      "/n\n",
      "['../cluster/data/medinfmk/ddi/raw/DS3/CRDInteractionMat.csv', '../cluster/data/medinfmk/ddi/raw/DS3/SideEffectSimilarityMat.csv', '../cluster/data/medinfmk/ddi/raw/DS3/ligandSimilarityMat.csv', '../cluster/data/medinfmk/ddi/raw/DS3/distSimilarityMat.csv', '../cluster/data/medinfmk/ddi/raw/DS3/seqSimilarityMat.csv', '../cluster/data/medinfmk/ddi/raw/DS3/chemicalSimilarityMat.csv', '../cluster/data/medinfmk/ddi/raw/DS3/NCRDInteractionMat.csv', '../cluster/data/medinfmk/ddi/raw/DS3/ATCSimilarityMat.csv', '../cluster/data/medinfmk/ddi/raw/DS3/GOSimilarityMat.csv']\n",
      "/n\n"
     ]
    }
   ],
   "source": [
    "for datasetDir in datasetDirs:\n",
    "    print(glob.glob(pathInput+str(datasetDir)+\"/*\"))\n",
    "    print(\"/n\")"
   ]
  },
  {
   "cell_type": "code",
   "execution_count": 87,
   "metadata": {
    "scrolled": true
   },
   "outputs": [
    {
     "name": "stdout",
     "output_type": "stream",
     "text": [
      "../cluster/data/medinfmk/ddi/raw/DS1/offsideeffect_Jacarrd_sim.csv\n"
     ]
    }
   ],
   "source": [
    "print(pathInput+DS1_path+\"/offsideeffect_Jacarrd_sim.csv\")"
   ]
  },
  {
   "cell_type": "markdown",
   "metadata": {},
   "source": [
    "# NDD Methods"
   ]
  },
  {
   "cell_type": "code",
   "execution_count": 73,
   "metadata": {},
   "outputs": [],
   "source": [
    "def prepare_data(input_fea, input_lab, seperate=False):\n",
    "    offside_sim_path = input_fea\n",
    "    drug_interaction_matrix_path = input_lab\n",
    "    drug_fea = np.loadtxt(offside_sim_path,dtype=float,delimiter=\",\")\n",
    "    interaction = np.loadtxt(drug_interaction_matrix_path,dtype=int,delimiter=\",\")\n",
    "    train = []\n",
    "    label = []\n",
    "    tmp_fea=[]\n",
    "    drug_fea_tmp = []\n",
    "    for i in range(0, interaction.shape[0]):\n",
    "        for j in range(0, interaction.shape[1]):\n",
    "            label.append(interaction[i,j])\n",
    "            drug_fea_tmp = list(drug_fea[i])\n",
    "            if seperate:\n",
    "        \n",
    "                 tmp_fea = (drug_fea_tmp,drug_fea_tmp)\n",
    "\n",
    "            else:\n",
    "                 tmp_fea = drug_fea_tmp + drug_fea_tmp\n",
    "            train.append(tmp_fea)\n",
    "\n",
    "    return np.array(train), label"
   ]
  },
  {
   "cell_type": "code",
   "execution_count": 75,
   "metadata": {},
   "outputs": [],
   "source": [
    "def calculate_performace(test_num, pred_y,  labels):\n",
    "    tp =0\n",
    "    fp = 0\n",
    "    tn = 0\n",
    "    fn = 0\n",
    "    for index in range(test_num):\n",
    "        if labels[index] ==1:\n",
    "            if labels[index] == pred_y[index]:\n",
    "                tp = tp +1\n",
    "            else:\n",
    "                fn = fn + 1\n",
    "        else:\n",
    "            if labels[index] == pred_y[index]:\n",
    "                tn = tn +1\n",
    "            else:\n",
    "                fp = fp + 1 \n",
    "    acc = float(tp + tn)/test_num\n",
    "    if tp == 0 and fp == 0:\n",
    "        precision = 0\n",
    "        MCC = 0\n",
    "        sensitivity = float(tp)/ (tp+fn)\n",
    "        specificity = float(tn)/(tn + fp)\n",
    "    else:\n",
    "        precision = float(tp)/(tp+ fp)\n",
    "        sensitivity = float(tp)/ (tp+fn)\n",
    "        specificity = float(tn)/(tn + fp)\n",
    "        # The Matthews Correlation Coefficient is used in machine learning as a\n",
    "        # measure of the quality of binary (two-class) classifications\n",
    "        MCC = float(tp*tn-fp*fn)/(np.sqrt((tp+fp)*(tp+fn)*(tn+fp)*(tn+fn)))\n",
    "    return acc, precision, sensitivity, specificity, MCC"
   ]
  },
  {
   "cell_type": "code",
   "execution_count": 76,
   "metadata": {},
   "outputs": [],
   "source": [
    "def transfer_array_format(data):\n",
    "    formated_matrix1 = []\n",
    "    formated_matrix2 = []\n",
    "    for val in data:\n",
    "        formated_matrix1.append(val[0])\n",
    "        formated_matrix2.append(val[1])\n",
    "    return np.array(formated_matrix1), np.array(formated_matrix2)"
   ]
  },
  {
   "cell_type": "code",
   "execution_count": 77,
   "metadata": {},
   "outputs": [],
   "source": [
    "def preprocess_labels(labels, encoder=None, categorical=True):\n",
    "    if not encoder:\n",
    "        encoder = LabelEncoder()\n",
    "        encoder.fit(labels)\n",
    "        y = encoder.transform(labels).astype(np.int32)\n",
    "    if categorical:\n",
    "        y = np_utils.to_categorical(y)\n",
    "        print(y)\n",
    "    return y, encoder"
   ]
  },
  {
   "cell_type": "code",
   "execution_count": 78,
   "metadata": {},
   "outputs": [],
   "source": [
    "def preprocess_names(labels, encoder=None, categorical=True):\n",
    "    if not encoder:\n",
    "        encoder = LabelEncoder()\n",
    "        encoder.fit(labels)\n",
    "    if categorical:\n",
    "        labels = np_utils.to_categorical(labels)\n",
    "    return labels, encoder"
   ]
  },
  {
   "cell_type": "code",
   "execution_count": 79,
   "metadata": {},
   "outputs": [],
   "source": [
    "def NDD(input_dim): \n",
    "    model = Sequential()\n",
    "    model.add(Dense(input_dim=input_dim, output_dim=400,init='glorot_normal'))\n",
    "    model.add(Activation('relu'))\n",
    "    model.add(Dropout(0.5))\n",
    "    model.add(Dense(input_dim=400, output_dim=300,init='glorot_normal'))\n",
    "    model.add(Activation('relu'))\n",
    "    model.add(Dropout(0.5))\n",
    "    model.add(Dense(input_dim=300, output_dim=2,init='glorot_normal'))\n",
    "    model.add(Activation('sigmoid'))\n",
    "    sgd = optimizers.SGD(lr=0.01, decay=1e-6, momentum=0.9, nesterov=True)\n",
    "    model.compile(loss='binary_crossentropy', optimizer=sgd)                  \n",
    "    return model"
   ]
  },
  {
   "cell_type": "markdown",
   "metadata": {},
   "source": [
    "# SNF Methods"
   ]
  },
  {
   "cell_type": "code",
   "execution_count": 80,
   "metadata": {},
   "outputs": [],
   "source": [
    "def FindDominantSet(W,K):\n",
    "\tm,n = W.shape\n",
    "\tDS = np.zeros((m,n))\n",
    "\tfor i in range(m):\n",
    "\t\tindex =  np.argsort(W[i,:])[-K:] # get the closest K neighbors \n",
    "\t\tDS[i,index] = W[i,index] # keep only the nearest neighbors \n",
    "\n",
    "\t#normalize by sum \n",
    "\tB = np.sum(DS,axis=1)\n",
    "\tB = B.reshape(len(B),1)\n",
    "\tDS = DS/B\n",
    "\treturn DS"
   ]
  },
  {
   "cell_type": "code",
   "execution_count": 81,
   "metadata": {},
   "outputs": [],
   "source": [
    "def normalized(W,ALPHA):\n",
    "\tm,n = W.shape\n",
    "\tW = W+ALPHA*np.identity(m)\n",
    "\treturn (W+np.transpose(W))/2"
   ]
  },
  {
   "cell_type": "code",
   "execution_count": 82,
   "metadata": {},
   "outputs": [],
   "source": [
    "def SNF(Wall,K,t,ALPHA=1):\n",
    "\tC = len(Wall)\n",
    "\tm,n = Wall[0].shape\n",
    "\n",
    "\tfor i in range(C):\n",
    "\t\tB = np.sum(Wall[i],axis=1)\n",
    "\t\tlen_b = len(B)\n",
    "\t\tB = B.reshape(len_b,1)\n",
    "\t\tWall[i] = Wall[i]/B\n",
    "\t\tWall[i] = (Wall[i]+np.transpose(Wall[i]))/2\n",
    "\n",
    "\n",
    "\n",
    "\tnewW = []\n",
    "\t\n",
    "\n",
    "\tfor i in range(C):\n",
    "\t\tnewW.append(FindDominantSet(Wall[i],K))\n",
    "\t\t\n",
    "\n",
    "\tWsum = np.zeros((m,n))\n",
    "\tfor i in range(C):\n",
    "\t\tWsum += Wall[i]\n",
    "\n",
    "\n",
    "\tfor iteration in range(t):\n",
    "\t\tWall0 = []\n",
    "\t\tfor i in range(C):\n",
    "\t\t\ttemp = np.dot(np.dot(newW[i], (Wsum - Wall[i])),np.transpose(newW[i]))/(C-1)\n",
    "\t\t\tWall0.append(temp)\n",
    "\n",
    "\t\tfor i in range(C):\n",
    "\t\t\tWall[i] = normalized(Wall0[i],ALPHA)\n",
    "\n",
    "\t\tWsum = np.zeros((m,n))\n",
    "\t\tfor i in range (C):\n",
    "\t\t\tWsum+=Wall[i]\n",
    "\n",
    "\tW = Wsum/C\n",
    "\tB = np.sum(W,axis=1)\n",
    "\tB = B.reshape(len(B),1)\n",
    "\tW/=B\n",
    "\tW = (W+np.transpose(W)+np.identity(m))/2\n",
    "\treturn W"
   ]
  },
  {
   "cell_type": "code",
   "execution_count": 83,
   "metadata": {},
   "outputs": [],
   "source": [
    "#Similarity Selection\n",
    "def read_Sim_Calc_Entropy(fname,cutoff):\n",
    "        entropy_exclude_zero_sumRow=[]\n",
    "        max_entropy=0.0\n",
    "        cutoff=float(cutoff)\n",
    "        entropy=[]\n",
    "        small_number= 1*pow(10,-16)\n",
    "        arr = np.loadtxt(fname, delimiter=',')\n",
    "        np.fill_diagonal(arr,0)\n",
    "        row,col = arr.shape\n",
    "        aIndices_nonZero=[]\n",
    "        max_entropy = float(math.log(row,2))\n",
    "\n",
    "        for i in range(row):\n",
    "                for j in range(col):\n",
    "                        if arr[i][j]<cutoff:\n",
    "                                arr[i][j]=0\n",
    "        \n",
    "        for i in range(len(arr)):\n",
    "                row_sum =arr[i].sum() \n",
    "                row_entropy=0\n",
    "\n",
    "                if row_sum == 0:\n",
    "                        entropy.append(0)\n",
    "                        \n",
    "                if row_sum > 0:\n",
    "                        aIndices_nonZero.append(i)\n",
    "                        arr[i] +=small_number \n",
    "                        row_sum = arr[i].sum()\n",
    "        for j in range(len(arr[i])):\n",
    "                                v= arr[i][j]\n",
    "                                cell_edited = (v)/row_sum\n",
    "                                #print 'cell_edited',cell_edited\n",
    "                                row_entropy= row_entropy+(cell_edited * math.log(cell_edited,2))\n",
    "                                 #print 'row_entropy',row_entropy\n",
    "                                row_entropy =row_entropy*-1\n",
    "                                entropy.append(row_entropy)\n",
    "\n",
    "        for x in aIndices_nonZero:            \n",
    "                entropy_exclude_zero_sumRow.append(entropy[x])\n",
    "        \n",
    "        return np.mean(entropy),np.mean(entropy_exclude_zero_sumRow),round(max_entropy,2)"
   ]
  },
  {
   "cell_type": "code",
   "execution_count": 84,
   "metadata": {},
   "outputs": [],
   "source": [
    "def removeRedundancy(ranked_entropy_simType,all_euclideanDist_Sim):\n",
    "        flT = 0.6\n",
    "        m = 0\n",
    "        iMEnd = len(ranked_entropy_simType)\n",
    "        while m < iMEnd:\n",
    "                A_simType = ranked_entropy_simType[m]\n",
    "                n = m+1\n",
    "                iNEnd = len(ranked_entropy_simType)\n",
    "                while n < iNEnd:\n",
    "                        B_simType = ranked_entropy_simType[n]\n",
    "\n",
    "                        if A_simType+','+B_simType in all_euclideanDist_Sim:\n",
    "                                key=A_simType+','+B_simType\n",
    "                        if B_simType+','+A_simType in all_euclideanDist_Sim:\n",
    "                                key=B_simType+','+A_simType\n",
    "\n",
    "                        flMax = all_euclideanDist_Sim[key]\n",
    "                        if flMax > flT:\n",
    "                                #oMC.deleteMotif(sMotB)\n",
    "                                del ranked_entropy_simType[n]\n",
    "                        else:\n",
    "                                n += 1\n",
    "                        iNEnd = len(ranked_entropy_simType)\n",
    "                m += 1\n",
    "                iMEnd = len(ranked_entropy_simType)\n",
    "        print('ranked_entropy_simType', ranked_entropy_simType)\n",
    "\n",
    "        return ranked_entropy_simType"
   ]
  },
  {
   "cell_type": "markdown",
   "metadata": {},
   "source": [
    "# Training"
   ]
  },
  {
   "cell_type": "markdown",
   "metadata": {},
   "source": [
    "### Prepare Data"
   ]
  },
  {
   "cell_type": "code",
   "execution_count": 88,
   "metadata": {},
   "outputs": [],
   "source": [
    "input_fea = pathInput+DS1_path+\"/offsideeffect_Jacarrd_sim.csv\"\n",
    "input_lab = pathInput+DS1_path+\"/drug_drug_matrix.csv\"\n",
    "X, labels = prepare_data(input_fea, input_lab, seperate = True)\n",
    "X_data1, X_data2 = transfer_array_format(X)\n",
    "y, encoder = preprocess_labels(labels)\n",
    "X = np.concatenate((X_data1, X_data2), axis = 1)\n",
    "model_input_dim = X.shape[1]"
   ]
  },
  {
   "cell_type": "markdown",
   "metadata": {},
   "source": [
    "### Train Model"
   ]
  },
  {
   "cell_type": "code",
   "execution_count": 102,
   "metadata": {},
   "outputs": [
    {
     "name": "stderr",
     "output_type": "stream",
     "text": [
      "/home/ubuntu/anaconda3/lib/python3.7/site-packages/ipykernel_launcher.py:3: UserWarning: Update your `Dense` call to the Keras 2 API: `Dense(input_dim=1096, units=400, kernel_initializer=\"glorot_normal\")`\n",
      "  This is separate from the ipykernel package so we can avoid doing imports until\n",
      "/home/ubuntu/anaconda3/lib/python3.7/site-packages/ipykernel_launcher.py:6: UserWarning: Update your `Dense` call to the Keras 2 API: `Dense(input_dim=400, units=300, kernel_initializer=\"glorot_normal\")`\n",
      "  \n",
      "/home/ubuntu/anaconda3/lib/python3.7/site-packages/ipykernel_launcher.py:9: UserWarning: Update your `Dense` call to the Keras 2 API: `Dense(input_dim=300, units=2, kernel_initializer=\"glorot_normal\")`\n",
      "  if __name__ == '__main__':\n"
     ]
    }
   ],
   "source": [
    "model_DNN = NDD(model_input_dim)"
   ]
  },
  {
   "cell_type": "code",
   "execution_count": 103,
   "metadata": {},
   "outputs": [],
   "source": [
    "#train_label_new_forDNN = np.array([[0,1] if i == 1 else [1,0] for i in y])"
   ]
  },
  {
   "cell_type": "code",
   "execution_count": 104,
   "metadata": {},
   "outputs": [
    {
     "name": "stdout",
     "output_type": "stream",
     "text": [
      "Epoch 1/20\n",
      "300304/300304 [==============================] - 20s 65us/step - loss: 0.5771\n",
      "Epoch 2/20\n",
      "300304/300304 [==============================] - 18s 61us/step - loss: 0.5606\n",
      "Epoch 3/20\n",
      "300304/300304 [==============================] - 19s 62us/step - loss: 0.5585\n",
      "Epoch 4/20\n",
      "300304/300304 [==============================] - 19s 63us/step - loss: 0.5580\n",
      "Epoch 5/20\n",
      "300304/300304 [==============================] - 18s 61us/step - loss: 0.5542\n",
      "Epoch 6/20\n",
      "300304/300304 [==============================] - 18s 60us/step - loss: 0.5528\n",
      "Epoch 7/20\n",
      "300304/300304 [==============================] - 18s 61us/step - loss: 0.5500\n",
      "Epoch 8/20\n",
      "300304/300304 [==============================] - 18s 60us/step - loss: 0.5478\n",
      "Epoch 9/20\n",
      "300304/300304 [==============================] - 19s 63us/step - loss: 0.5462\n",
      "Epoch 10/20\n",
      "300304/300304 [==============================] - 19s 62us/step - loss: 0.5436\n",
      "Epoch 11/20\n",
      "300304/300304 [==============================] - 17s 56us/step - loss: 0.5432\n",
      "Epoch 12/20\n",
      "300304/300304 [==============================] - 16s 53us/step - loss: 0.5422\n",
      "Epoch 13/20\n",
      "300304/300304 [==============================] - 17s 57us/step - loss: 0.5393\n",
      "Epoch 14/20\n",
      "300304/300304 [==============================] - 17s 57us/step - loss: 0.5369\n",
      "Epoch 15/20\n",
      "300304/300304 [==============================] - 17s 58us/step - loss: 0.5355\n",
      "Epoch 16/20\n",
      "300304/300304 [==============================] - 16s 55us/step - loss: 0.5336\n",
      "Epoch 17/20\n",
      "300304/300304 [==============================] - 16s 53us/step - loss: 0.5334\n",
      "Epoch 18/20\n",
      "300304/300304 [==============================] - 16s 54us/step - loss: 0.5297\n",
      "Epoch 19/20\n",
      "300304/300304 [==============================] - 16s 55us/step - loss: 0.5298\n",
      "Epoch 20/20\n",
      "300304/300304 [==============================] - 16s 53us/step - loss: 0.5297\n"
     ]
    },
    {
     "data": {
      "text/plain": [
       "<keras.callbacks.callbacks.History at 0x7f649aea8f28>"
      ]
     },
     "execution_count": 104,
     "metadata": {},
     "output_type": "execute_result"
    }
   ],
   "source": [
    "#model_DNN.fit(X,train_label_new_forDNN,batch_size=100,epochs=20,shuffle=True,validation_split=0)\n",
    "model_DNN.fit(X,y,batch_size=100,epochs=20,shuffle=True,validation_split=0)"
   ]
  },
  {
   "cell_type": "markdown",
   "metadata": {},
   "source": [
    "### Predictions"
   ]
  },
  {
   "cell_type": "code",
   "execution_count": 108,
   "metadata": {},
   "outputs": [
    {
     "name": "stdout",
     "output_type": "stream",
     "text": [
      "300304/300304 [==============================] - 5s 18us/step\n"
     ]
    }
   ],
   "source": [
    "#proba = model_DNN.predict_classes(prefilter_test,batch_size=200,verbose=True)\n",
    "#ae_y_pred_prob = model_DNN.predict_proba(prefilter_test,batch_size=200,verbose=True)\n",
    "ae_y_pred_prob = model_DNN.predict_proba(X,batch_size=200,verbose=True)"
   ]
  },
  {
   "cell_type": "markdown",
   "metadata": {},
   "source": [
    "### Evaluation"
   ]
  },
  {
   "cell_type": "code",
   "execution_count": 118,
   "metadata": {},
   "outputs": [],
   "source": [
    "#acc, precision, sensitivity, specificity, MCC = calculate_performace(len(real_labels), proba,  real_labels)\n",
    "#fpr, tpr, auc_thresholds = roc_curve(real_labels, ae_y_pred_prob[:,1])\n",
    "fpr, tpr, auc_thresholds = roc_curve(labels, ae_y_pred_prob[:,1])\n",
    "roc_auc = auc(fpr, tpr)"
   ]
  },
  {
   "cell_type": "code",
   "execution_count": 119,
   "metadata": {},
   "outputs": [
    {
     "data": {
      "image/png": "[encoded data removed]",
      "text/plain": [
       "<Figure size 432x288 with 1 Axes>"
      ]
     },
     "metadata": {
      "needs_background": "light"
     },
     "output_type": "display_data"
    }
   ],
   "source": [
    "# Plot of a ROC curve for a specific class\n",
    "plt.figure()\n",
    "plt.plot(fpr, tpr, label='ROC curve (area = %0.2f)' % roc_auc)\n",
    "plt.plot([0, 1], [0, 1], 'k--')\n",
    "plt.xlim([0.0, 1.0])\n",
    "plt.ylim([0.0, 1.05])\n",
    "plt.xlabel('False Positive Rate')\n",
    "plt.ylabel('True Positive Rate')\n",
    "plt.title('ROC')\n",
    "plt.legend(loc=\"lower right\")\n",
    "plt.show()"
   ]
  }
 ],
 "metadata": {
  "kernelspec": {
   "display_name": "Python 3",
   "language": "python",
   "name": "python3"
  },
  "language_info": {
   "codemirror_mode": {
    "name": "ipython",
    "version": 3
   },
   "file_extension": ".py",
   "mimetype": "text/x-python",
   "name": "python",
   "nbconvert_exporter": "python",
   "pygments_lexer": "ipython3",
   "version": "3.7.3"
  }
 },
 "nbformat": 4,
 "nbformat_minor": 2
}
