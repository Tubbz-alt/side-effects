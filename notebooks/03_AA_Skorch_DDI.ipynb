{
 "cells": [
  {
   "cell_type": "markdown",
   "metadata": {},
   "source": [
    "![](https://scikit-learn.org/stable/_images/grid_search_workflow.png)"
   ]
  },
  {
   "cell_type": "code",
   "execution_count": 1,
   "metadata": {},
   "outputs": [],
   "source": [
    "# import warnings\n",
    "# warnings.filterwarnings('ignore')"
   ]
  },
  {
   "cell_type": "code",
   "execution_count": 2,
   "metadata": {},
   "outputs": [
    {
     "name": "stderr",
     "output_type": "stream",
     "text": [
      "Using TensorFlow backend.\n"
     ]
    }
   ],
   "source": [
    "import numpy as np\n",
    "import pandas as pd\n",
    "\n",
    "import pickle\n",
    "\n",
    "from sklearn.datasets import make_classification\n",
    "from sklearn.pipeline import Pipeline\n",
    "from sklearn.preprocessing import LabelEncoder\n",
    "from sklearn.model_selection import GridSearchCV\n",
    "from sklearn.model_selection import train_test_split\n",
    "from sklearn.model_selection import StratifiedKFold\n",
    "from sklearn.metrics import accuracy_score, f1_score, roc_auc_score, precision_score, recall_score, matthews_corrcoef, precision_recall_curve, auc\n",
    "\n",
    "from keras.utils import np_utils\n",
    "\n",
    "import torch\n",
    "from torch import nn\n",
    "import torch.nn.functional as F\n",
    "from torch.utils.data import TensorDataset\n",
    "from torch.utils.data import Dataset\n",
    "from torch.utils.data import DataLoader\n",
    "from torch.utils.tensorboard import SummaryWriter\n",
    "from torch.optim import SGD\n",
    "\n",
    "import skorch\n",
    "from skorch import NeuralNetClassifier\n",
    "from skorch.callbacks import EpochScoring\n",
    "from skorch.callbacks import TensorBoard\n",
    "from skorch.helper import predefined_split"
   ]
  },
  {
   "cell_type": "code",
   "execution_count": 3,
   "metadata": {},
   "outputs": [],
   "source": [
    "# import configurations (file paths, etc.)\n",
    "import yaml\n",
    "try:\n",
    "    from yaml import CLoader as Loader, CDumper as Dumper\n",
    "except ImportError:\n",
    "    from yaml import Loader, Dumper\n",
    "    \n",
    "configFile = '../cluster/data/medinfmk/ddi/config/config.yml'\n",
    "\n",
    "with open(configFile, 'r') as ymlfile:\n",
    "    cfg = yaml.load(ymlfile, Loader=Loader)"
   ]
  },
  {
   "cell_type": "code",
   "execution_count": 4,
   "metadata": {},
   "outputs": [],
   "source": [
    "pathInput = cfg['filePaths']['dirRaw']\n",
    "pathOutput = cfg['filePaths']['dirProcessed']\n",
    "# path to store python binary files (pickles)\n",
    "# in order not to recalculate them every time\n",
    "pathPickles = cfg['filePaths']['dirProcessedFiles']['dirPickles']\n",
    "pathRuns = cfg['filePaths']['dirProcessedFiles']['dirRuns']\n",
    "pathPaperScores = cfg['filePaths']['dirRawFiles']['paper-individual-metrics-scores']\n",
    "datasetDirs = cfg['filePaths']['dirRawDatasets']\n",
    "DS1_path = str(datasetDirs[0])"
   ]
  },
  {
   "cell_type": "markdown",
   "metadata": {},
   "source": [
    "# Helper Functions"
   ]
  },
  {
   "cell_type": "code",
   "execution_count": 5,
   "metadata": {},
   "outputs": [],
   "source": [
    "def prepare_data(input_fea, input_lab, seperate=False):\n",
    "    offside_sim_path = input_fea\n",
    "    drug_interaction_matrix_path = input_lab\n",
    "    drug_fea = np.loadtxt(offside_sim_path,dtype=float,delimiter=\",\")\n",
    "    interaction = np.loadtxt(drug_interaction_matrix_path,dtype=int,delimiter=\",\")\n",
    "    \n",
    "    train = []\n",
    "    label = []\n",
    "    tmp_fea=[]\n",
    "    drug_fea_tmp = []\n",
    "            \n",
    "    for i in range(0, (interaction.shape[0]-1)):\n",
    "        for j in range((i+1), interaction.shape[1]):\n",
    "            label.append(interaction[i,j])\n",
    "            drug_fea_tmp_1 = list(drug_fea[i])\n",
    "            drug_fea_tmp_2 = list(drug_fea[j])\n",
    "            if seperate:\n",
    "                 tmp_fea = (drug_fea_tmp_1,drug_fea_tmp_2)\n",
    "            else:\n",
    "                 tmp_fea = drug_fea_tmp_1 + drug_fea_tmp_2\n",
    "            train.append(tmp_fea)\n",
    "\n",
    "    return np.array(train), np.array(label)"
   ]
  },
  {
   "cell_type": "code",
   "execution_count": 6,
   "metadata": {},
   "outputs": [],
   "source": [
    "def transfer_array_format(data):\n",
    "    formated_matrix1 = []\n",
    "    formated_matrix2 = []\n",
    "    for val in data:\n",
    "        formated_matrix1.append(val[0])\n",
    "        formated_matrix2.append(val[1])\n",
    "    return np.array(formated_matrix1), np.array(formated_matrix2)"
   ]
  },
  {
   "cell_type": "code",
   "execution_count": 7,
   "metadata": {},
   "outputs": [],
   "source": [
    "def preprocess_labels(labels, encoder=None, categorical=True):\n",
    "    if not encoder:\n",
    "        encoder = LabelEncoder()\n",
    "        encoder.fit(labels)\n",
    "        y = encoder.transform(labels).astype(np.int32)\n",
    "    if categorical:\n",
    "        y = np_utils.to_categorical(y)\n",
    "#         print(y)\n",
    "    return y, encoder"
   ]
  },
  {
   "cell_type": "code",
   "execution_count": 8,
   "metadata": {},
   "outputs": [],
   "source": [
    "def preprocess_names(labels, encoder=None, categorical=True):\n",
    "    if not encoder:\n",
    "        encoder = LabelEncoder()\n",
    "        encoder.fit(labels)\n",
    "    if categorical:\n",
    "        labels = np_utils.to_categorical(labels)\n",
    "    return labels, encoder"
   ]
  },
  {
   "cell_type": "code",
   "execution_count": 9,
   "metadata": {},
   "outputs": [],
   "source": [
    "def getStratifiedKFoldSplit(X,y,n_splits):\n",
    "    skf = StratifiedKFold(n_splits=n_splits, random_state=42)\n",
    "    return skf.split(X,y)"
   ]
  },
  {
   "cell_type": "code",
   "execution_count": 52,
   "metadata": {},
   "outputs": [],
   "source": [
    "class NDD(nn.Module):\n",
    "    def __init__(self, D_in=1096, H1=300, H2=400, D_out=1, drop=0.5):\n",
    "        super(NDD, self).__init__()\n",
    "        # an affine operation: y = Wx + b\n",
    "        self.fc1 = nn.Linear(D_in, H1) # Fully Connected\n",
    "        self.fc2 = nn.Linear(H1, H2)\n",
    "        self.fc3 = nn.Linear(H2, D_out)\n",
    "        self.drop = nn.Dropout(drop)\n",
    "        self._init_weights()\n",
    "\n",
    "    def forward(self, x):\n",
    "        x = F.relu(self.fc1(x))\n",
    "        x = self.drop(x)\n",
    "        x = F.relu(self.fc2(x))\n",
    "        x = self.drop(x)\n",
    "        x = self.fc3(x)\n",
    "        return x\n",
    "    \n",
    "    def _init_weights(self):\n",
    "        for m in self.modules():\n",
    "            if(isinstance(m, nn.Linear)):\n",
    "                m.weight.data.normal_(0, 0.05)\n",
    "                m.bias.data.uniform_(-1,0)"
   ]
  },
  {
   "cell_type": "code",
   "execution_count": 48,
   "metadata": {},
   "outputs": [],
   "source": [
    "ndd = NDD()"
   ]
  },
  {
   "cell_type": "code",
   "execution_count": 49,
   "metadata": {},
   "outputs": [
    {
     "data": {
      "text/plain": [
       "tensor([-0.0055], grad_fn=<AsStridedBackward>)"
      ]
     },
     "execution_count": 49,
     "metadata": {},
     "output_type": "execute_result"
    }
   ],
   "source": [
    "ndd(x)"
   ]
  },
  {
   "cell_type": "code",
   "execution_count": 50,
   "metadata": {},
   "outputs": [
    {
     "name": "stdout",
     "output_type": "stream",
     "text": [
      "torch.Size([1, 1096])\n",
      "torch.Size([1])\n",
      "tensor([-0.5538], grad_fn=<AsStridedBackward>)\n"
     ]
    }
   ],
   "source": [
    "x = torch.randn(1, 1096)\n",
    "print(x.size())\n",
    "y = ndd(x)\n",
    "print(y.size())\n",
    "print(y)"
   ]
  },
  {
   "cell_type": "code",
   "execution_count": 54,
   "metadata": {},
   "outputs": [],
   "source": [
    "def updateSimilarityDFSingleMetric(df, sim_type, metric, value):\n",
    "    df.loc[df['Similarity'] == sim_type, metric ] = round(value,3)\n",
    "    return df"
   ]
  },
  {
   "cell_type": "code",
   "execution_count": 55,
   "metadata": {},
   "outputs": [],
   "source": [
    "def updateSimilarityDF(df, sim_type, AUROC, AUPR, F1, Rec, Prec):\n",
    "    df = updateSimilarityDFSingleMetric(df, sim_type, 'AUC', AUROC)\n",
    "    df = updateSimilarityDFSingleMetric(df, sim_type, 'AUPR', AUPR)\n",
    "    df = updateSimilarityDFSingleMetric(df, sim_type, 'F-measure', F1)\n",
    "    df = updateSimilarityDFSingleMetric(df, sim_type, 'Recall', Rec)\n",
    "    df = updateSimilarityDFSingleMetric(df, sim_type, 'Precision', Prec)\n",
    "    return df"
   ]
  },
  {
   "cell_type": "code",
   "execution_count": 29,
   "metadata": {},
   "outputs": [],
   "source": [
    "def getNetParamsStr(net, str_hidden_layers_params, net_params_to_print=[\"max_epochs\", \"batch_size\"]):\n",
    "    net_params = [val for sublist in [[x,net.get_params()[x]] for x in net_params_to_print] for val in sublist]\n",
    "    net_params_str = '-'.join(map(str, flattened))\n",
    "    return(net_params_str+str_hidden_layers_params)"
   ]
  },
  {
   "cell_type": "code",
   "execution_count": 30,
   "metadata": {},
   "outputs": [],
   "source": [
    "def writeReplicatedIndividualScoresCSV(net, df, destination, str_hidden_layers_params):\n",
    "    filePath = destination + \"replicatedIndividualScores_\" + getNetParamsStr(net, str_hidden_layers_params) + \".csv\"\n",
    "    df.to_csv(path_or_buf = filePath, index=False)"
   ]
  },
  {
   "cell_type": "code",
   "execution_count": 31,
   "metadata": {},
   "outputs": [],
   "source": [
    "def getNDDClassifier(D_in, H1, H2, D_out, drop, Xy_test):\n",
    "    model = NDD(D_in, H1, H2, D_out, drop)\n",
    "    \n",
    "    net = NeuralNetClassifier(\n",
    "        model,\n",
    "#         criterion=nn.CrossEntropyLoss,\n",
    "        criterion=nn.BCEWithLogitsLoss,\n",
    "        max_epochs=20,\n",
    "        optimizer=SGD,\n",
    "        optimizer__lr=0.01,\n",
    "        optimizer__momentum=0.9,    \n",
    "        optimizer__weight_decay=1e-6,    \n",
    "        optimizer__nesterov=True,    \n",
    "        batch_size=200,\n",
    "        callbacks=callbacks,\n",
    "        # Shuffle training data on each epoch\n",
    "        iterator_train__shuffle=True,\n",
    "        device=device,\n",
    "        train_split=predefined_split(Xy_test),\n",
    "    )\n",
    "    return net"
   ]
  },
  {
   "cell_type": "code",
   "execution_count": 32,
   "metadata": {},
   "outputs": [],
   "source": [
    "def avgMetrics(AUROC, AUPR, F1, Rec, Prec, kfold_nsplits):\n",
    "    AUROC /= kfold_nsplits\n",
    "    AUPR /= kfold_nsplits\n",
    "    F1 /= kfold_nsplits\n",
    "    Rec /= kfold_nsplits\n",
    "    Prec /= kfold_nsplits\n",
    "    return AUROC, AUPR, F1, Rec, Prec"
   ]
  },
  {
   "cell_type": "markdown",
   "metadata": {},
   "source": [
    "# Run"
   ]
  },
  {
   "cell_type": "code",
   "execution_count": 33,
   "metadata": {},
   "outputs": [],
   "source": [
    "df_paperIndividualScores = pd.read_csv(pathPaperScores)\n",
    "\n",
    "df_replicatedIndividualScores = df_paperIndividualScores.copy()\n",
    "\n",
    "for col in df_replicatedIndividualScores.columns:\n",
    "    if col != 'Similarity':\n",
    "        df_replicatedIndividualScores[col].values[:] = 0"
   ]
  },
  {
   "cell_type": "code",
   "execution_count": 34,
   "metadata": {},
   "outputs": [],
   "source": [
    "device = torch.device(\"cuda:0\" if torch.cuda.is_available() else \"cpu\")\n",
    "soft = nn.Softmax(dim=1)"
   ]
  },
  {
   "cell_type": "code",
   "execution_count": 36,
   "metadata": {},
   "outputs": [
    {
     "data": {
      "text/plain": [
       "'../cluster/data/medinfmk/ddi/processed/pickles/'"
      ]
     },
     "execution_count": 36,
     "metadata": {},
     "output_type": "execute_result"
    }
   ],
   "source": [
    "pathPickles"
   ]
  },
  {
   "cell_type": "code",
   "execution_count": 38,
   "metadata": {},
   "outputs": [
    {
     "name": "stdout",
     "output_type": "stream",
     "text": [
      "Preparing sideeffect data...\n"
     ]
    }
   ],
   "source": [
    "similarity = \"sideeffect\"\n",
    "\n",
    "input_fea = pathInput+DS1_path+\"/\" + similarity + \"_Jacarrd_sim.csv\"\n",
    "input_lab = pathInput+DS1_path+\"/drug_drug_matrix.csv\"\n",
    "dataPicklePath = pathPickles+\"data_X_y_\" + similarity + \"_Jaccard.p\"\n",
    "\n",
    "print(\"Preparing \" + similarity + \" data...\")\n",
    "X,y = prepare_data(input_fea, input_lab, seperate = False)"
   ]
  },
  {
   "cell_type": "code",
   "execution_count": 41,
   "metadata": {},
   "outputs": [
    {
     "data": {
      "text/plain": [
       "((149878, 1096), dtype('float64'), (149878,), dtype('int64'))"
      ]
     },
     "execution_count": 41,
     "metadata": {},
     "output_type": "execute_result"
    }
   ],
   "source": [
    "X.shape, X.dtype, y.shape, y.dtype"
   ]
  },
  {
   "cell_type": "code",
   "execution_count": 53,
   "metadata": {},
   "outputs": [
    {
     "name": "stdout",
     "output_type": "stream",
     "text": [
      "Running fold0 for sideeffect...\n",
      "  epoch    train_loss    valid_acc    valid_loss     dur\n",
      "-------  ------------  -----------  ------------  ------\n",
      "      1        \u001b[36m0.6005\u001b[0m       \u001b[32m0.6758\u001b[0m        \u001b[35m0.6059\u001b[0m  2.9418\n",
      "      2        \u001b[36m0.5774\u001b[0m       0.6758        \u001b[35m0.5969\u001b[0m  2.9599\n",
      "      3        \u001b[36m0.5613\u001b[0m       0.6758        0.6023  2.9342\n",
      "      4        \u001b[36m0.5426\u001b[0m       0.6758        0.6269  2.9451\n",
      "      5        \u001b[36m0.5280\u001b[0m       0.6758        \u001b[35m0.5921\u001b[0m  2.8710\n",
      "      6        \u001b[36m0.5104\u001b[0m       0.6758        0.6048  2.9335\n",
      "      7        \u001b[36m0.5033\u001b[0m       0.6758        0.6138  2.9124\n",
      "      8        \u001b[36m0.4941\u001b[0m       0.6758        \u001b[35m0.5819\u001b[0m  2.9125\n",
      "      9        0.4945       0.6758        0.6152  2.9284\n",
      "     10        \u001b[36m0.4941\u001b[0m       0.6758        0.5917  2.9108\n",
      "     11        0.4978       0.6758        \u001b[35m0.5592\u001b[0m  2.9134\n",
      "     12        0.5006       0.6758        0.5623  2.9682\n",
      "     13        0.5026       0.6758        0.5649  3.1976\n",
      "     14        0.4989       0.6758        \u001b[35m0.5545\u001b[0m  3.0312\n",
      "     15        0.4956       0.6758        \u001b[35m0.5497\u001b[0m  3.0440\n",
      "     16        0.4980       0.6758        0.5770  2.8895\n",
      "     17        0.5024       0.6758        0.5614  2.9243\n",
      "     18        0.5070       0.6758        0.5694  2.9078\n",
      "     19        0.5014       0.6758        0.5763  3.0132\n",
      "     20        0.5131       0.6758        0.5652  2.9479\n",
      "0 sideeffect 0.5 0.5386593413940831 0.0 0.0 0.0\n",
      "Running fold1 for sideeffect...\n",
      "  epoch    train_loss    valid_acc    valid_loss     dur\n",
      "-------  ------------  -----------  ------------  ------\n",
      "      1        \u001b[36m0.6029\u001b[0m       \u001b[32m0.6758\u001b[0m        \u001b[35m0.5842\u001b[0m  2.8581\n",
      "      2        \u001b[36m0.5820\u001b[0m       0.6758        \u001b[35m0.5732\u001b[0m  2.8792\n",
      "      3        \u001b[36m0.5635\u001b[0m       0.6758        \u001b[35m0.5707\u001b[0m  2.8885\n",
      "      4        \u001b[36m0.5450\u001b[0m       0.6758        \u001b[35m0.5574\u001b[0m  2.9258\n",
      "      5        \u001b[36m0.5289\u001b[0m       0.6758        \u001b[35m0.5504\u001b[0m  2.8320\n",
      "      6        \u001b[36m0.5175\u001b[0m       0.6758        \u001b[35m0.5452\u001b[0m  2.9412\n",
      "      7        \u001b[36m0.5049\u001b[0m       0.6758        0.5597  3.0464\n",
      "      8        \u001b[36m0.5033\u001b[0m       0.6758        0.5831  2.9754\n",
      "      9        0.5062       0.6758        \u001b[35m0.5418\u001b[0m  2.9116\n",
      "     10        0.5102       0.6758        0.5914  2.8919\n",
      "     11        0.5104       0.6758        \u001b[35m0.5335\u001b[0m  2.8670\n",
      "     12        0.5078       0.6758        0.5541  2.8704\n",
      "     13        0.5070       0.6758        0.5502  3.1266\n",
      "     14        0.5046       0.6758        0.5727  2.9413\n",
      "     15        \u001b[36m0.5026\u001b[0m       0.6758        0.5425  2.9375\n",
      "     16        \u001b[36m0.4921\u001b[0m       0.6758        0.5740  2.9478\n",
      "     17        \u001b[36m0.4886\u001b[0m       0.6758        0.5585  3.3531\n",
      "     18        0.4924       0.6758        0.5554  3.4335\n",
      "     19        0.5007       0.6758        0.5519  3.3757\n",
      "     20        0.5059       0.6758        0.5350  3.2731\n",
      "1 sideeffect 1.0 1.1513459413308884 0.0 0.0 0.0\n",
      "Running fold2 for sideeffect...\n",
      "  epoch    train_loss    valid_acc    valid_loss     dur\n",
      "-------  ------------  -----------  ------------  ------\n",
      "      1        \u001b[36m0.6059\u001b[0m       \u001b[32m0.6758\u001b[0m        \u001b[35m0.5718\u001b[0m  3.1771\n",
      "      2        \u001b[36m0.5818\u001b[0m       0.6758        \u001b[35m0.5602\u001b[0m  3.2228\n",
      "      3        \u001b[36m0.5636\u001b[0m       0.6758        \u001b[35m0.5481\u001b[0m  3.3626\n",
      "      4        \u001b[36m0.5447\u001b[0m       0.6758        \u001b[35m0.5433\u001b[0m  3.3243\n",
      "      5        \u001b[36m0.5283\u001b[0m       0.6758        \u001b[35m0.5385\u001b[0m  3.2015\n",
      "      6        \u001b[36m0.5167\u001b[0m       0.6758        0.5900  3.3339\n",
      "      7        \u001b[36m0.5136\u001b[0m       0.6758        0.5543  3.2095\n",
      "      8        \u001b[36m0.5050\u001b[0m       0.6758        \u001b[35m0.5361\u001b[0m  3.0237\n",
      "      9        \u001b[36m0.5042\u001b[0m       0.6758        0.5845  3.1974\n",
      "     10        \u001b[36m0.4985\u001b[0m       0.6758        0.5781  3.0972\n",
      "     11        \u001b[36m0.4921\u001b[0m       0.6758        \u001b[35m0.5323\u001b[0m  3.3030\n",
      "     12        0.5002       0.6758        0.6117  3.1749\n",
      "     13        0.5037       0.6758        0.5629  3.0736\n",
      "     14        0.5070       0.6758        0.5539  2.9844\n",
      "     15        0.5083       0.6758        0.5622  3.2358\n",
      "     16        0.4974       0.6758        0.5919  3.3314\n",
      "     17        0.4999       0.6758        0.5437  3.1893\n",
      "     18        0.5062       0.6758        0.5670  3.1017\n",
      "     19        0.5009       0.6758        0.5908  3.5791\n",
      "     20        0.4985       0.6758        0.5750  3.4770\n",
      "2 sideeffect 1.5 1.759058724230969 0.0 0.0 0.0\n",
      "Running fold3 for sideeffect...\n",
      "  epoch    train_loss    valid_acc    valid_loss     dur\n",
      "-------  ------------  -----------  ------------  ------\n",
      "      1        \u001b[36m0.6041\u001b[0m       \u001b[32m0.6758\u001b[0m        \u001b[35m0.5843\u001b[0m  3.0407\n",
      "      2        \u001b[36m0.5767\u001b[0m       0.6758        0.6050  2.9655\n",
      "      3        \u001b[36m0.5575\u001b[0m       0.6758        0.5929  2.8983\n",
      "      4        \u001b[36m0.5368\u001b[0m       0.6758        0.5952  2.9325\n",
      "      5        \u001b[36m0.5193\u001b[0m       0.6758        0.6084  3.0438\n",
      "      6        \u001b[36m0.5088\u001b[0m       0.6758        0.6265  3.1915\n",
      "      7        \u001b[36m0.4962\u001b[0m       0.6758        0.6771  3.3307\n",
      "      8        \u001b[36m0.4949\u001b[0m       0.6758        0.6806  3.1395\n",
      "      9        0.4986       0.6758        0.6609  3.4376\n",
      "     10        \u001b[36m0.4905\u001b[0m       0.6758        0.6651  3.0779\n",
      "     11        0.4909       0.6758        0.7093  2.9212\n",
      "     12        0.4936       0.6758        0.6096  3.3227\n",
      "     13        0.5025       0.6758        0.7297  3.0828\n",
      "     14        0.4987       0.6758        0.6073  3.2909\n",
      "     15        0.4986       0.6758        0.7220  3.0619\n",
      "     16        0.4934       0.6758        0.6770  2.8544\n",
      "     17        0.4912       0.6758        0.6626  2.9693\n",
      "     18        0.5000       0.6758        0.6416  3.2423\n",
      "     19        \u001b[36m0.4905\u001b[0m       0.6758        0.8475  3.0376\n",
      "     20        \u001b[36m0.4889\u001b[0m       0.6758        0.6341  2.8862\n",
      "3 sideeffect 2.0 2.277121980796314 0.0 0.0 0.0\n",
      "Running fold4 for sideeffect...\n",
      "  epoch    train_loss    valid_acc    valid_loss     dur\n",
      "-------  ------------  -----------  ------------  ------\n",
      "      1        \u001b[36m0.5987\u001b[0m       \u001b[32m0.6759\u001b[0m        \u001b[35m0.5954\u001b[0m  3.3874\n",
      "      2        \u001b[36m0.5781\u001b[0m       0.6759        \u001b[35m0.5861\u001b[0m  3.2516\n",
      "      3        \u001b[36m0.5610\u001b[0m       0.6759        0.5988  3.5159\n",
      "      4        \u001b[36m0.5397\u001b[0m       0.6759        0.7689  3.3386\n",
      "      5        \u001b[36m0.5236\u001b[0m       0.6759        0.9402  2.9530\n",
      "      6        \u001b[36m0.5059\u001b[0m       0.6759        1.0388  3.1973\n",
      "      7        \u001b[36m0.4974\u001b[0m       0.6759        0.8371  2.9514\n",
      "      8        0.4995       0.6759        0.9770  2.9635\n",
      "      9        \u001b[36m0.4941\u001b[0m       0.6759        1.1371  2.9165\n",
      "     10        0.4962       0.6759        0.9204  2.8816\n",
      "     11        0.4947       0.6759        0.8781  2.9267\n",
      "     12        0.5017       0.6759        0.9375  2.9275\n",
      "     13        0.4989       0.6759        0.9331  2.8893\n",
      "     14        \u001b[36m0.4914\u001b[0m       0.6759        1.0508  2.8353\n",
      "     15        \u001b[36m0.4910\u001b[0m       0.6759        1.2105  2.9147\n",
      "     16        0.4915       0.6759        0.9027  2.9519\n",
      "     17        0.4963       0.6759        1.1712  2.9503\n",
      "     18        0.4946       0.6759        1.1265  2.7251\n",
      "     19        0.5014       0.6759        1.2730  2.7726\n",
      "     20        0.5017       0.6759        1.5496  3.0047\n",
      "4 sideeffect 2.5 2.7442586747900743 0.0 0.0 0.0\n",
      "sideeffect 0.5 0.5488517349580149 0.0 0.0 0.0\n"
     ]
    },
    {
     "ename": "NameError",
     "evalue": "name 'updateSimilarityDFSingleMetric' is not defined",
     "output_type": "error",
     "traceback": [
      "\u001b[0;31m---------------------------------------------------------------------------\u001b[0m",
      "\u001b[0;31mNameError\u001b[0m                                 Traceback (most recent call last)",
      "\u001b[0;32m<ipython-input-53-0854bbcc51af>\u001b[0m in \u001b[0;36m<module>\u001b[0;34m\u001b[0m\n\u001b[1;32m     80\u001b[0m \u001b[0;34m\u001b[0m\u001b[0m\n\u001b[1;32m     81\u001b[0m     \u001b[0;31m# Fill replicated metrics\u001b[0m\u001b[0;34m\u001b[0m\u001b[0;34m\u001b[0m\u001b[0;34m\u001b[0m\u001b[0m\n\u001b[0;32m---> 82\u001b[0;31m     \u001b[0mupdateSimilarityDF\u001b[0m\u001b[0;34m(\u001b[0m\u001b[0mdf_replicatedIndividualScores\u001b[0m\u001b[0;34m,\u001b[0m \u001b[0msimilarity\u001b[0m\u001b[0;34m,\u001b[0m \u001b[0mAUROC\u001b[0m\u001b[0;34m,\u001b[0m \u001b[0mAUPR\u001b[0m\u001b[0;34m,\u001b[0m \u001b[0mF1\u001b[0m\u001b[0;34m,\u001b[0m \u001b[0mRec\u001b[0m\u001b[0;34m,\u001b[0m \u001b[0mPrec\u001b[0m\u001b[0;34m)\u001b[0m\u001b[0;34m\u001b[0m\u001b[0;34m\u001b[0m\u001b[0m\n\u001b[0m\u001b[1;32m     83\u001b[0m \u001b[0;34m\u001b[0m\u001b[0m\n\u001b[1;32m     84\u001b[0m \u001b[0;31m# Write CSV\u001b[0m\u001b[0;34m\u001b[0m\u001b[0;34m\u001b[0m\u001b[0;34m\u001b[0m\u001b[0m\n",
      "\u001b[0;32m<ipython-input-28-d5082f86ea19>\u001b[0m in \u001b[0;36mupdateSimilarityDF\u001b[0;34m(df, sim_type, AUROC, AUPR, F1, Rec, Prec)\u001b[0m\n\u001b[1;32m      1\u001b[0m \u001b[0;32mdef\u001b[0m \u001b[0mupdateSimilarityDF\u001b[0m\u001b[0;34m(\u001b[0m\u001b[0mdf\u001b[0m\u001b[0;34m,\u001b[0m \u001b[0msim_type\u001b[0m\u001b[0;34m,\u001b[0m \u001b[0mAUROC\u001b[0m\u001b[0;34m,\u001b[0m \u001b[0mAUPR\u001b[0m\u001b[0;34m,\u001b[0m \u001b[0mF1\u001b[0m\u001b[0;34m,\u001b[0m \u001b[0mRec\u001b[0m\u001b[0;34m,\u001b[0m \u001b[0mPrec\u001b[0m\u001b[0;34m)\u001b[0m\u001b[0;34m:\u001b[0m\u001b[0;34m\u001b[0m\u001b[0;34m\u001b[0m\u001b[0m\n\u001b[0;32m----> 2\u001b[0;31m     \u001b[0mdf\u001b[0m \u001b[0;34m=\u001b[0m \u001b[0mupdateSimilarityDFSingleMetric\u001b[0m\u001b[0;34m(\u001b[0m\u001b[0mdf\u001b[0m\u001b[0;34m,\u001b[0m \u001b[0msim_type\u001b[0m\u001b[0;34m,\u001b[0m \u001b[0;34m'AUC'\u001b[0m\u001b[0;34m,\u001b[0m \u001b[0mAUROC\u001b[0m\u001b[0;34m)\u001b[0m\u001b[0;34m\u001b[0m\u001b[0;34m\u001b[0m\u001b[0m\n\u001b[0m\u001b[1;32m      3\u001b[0m     \u001b[0mdf\u001b[0m \u001b[0;34m=\u001b[0m \u001b[0mupdateSimilarityDFSingleMetric\u001b[0m\u001b[0;34m(\u001b[0m\u001b[0mdf\u001b[0m\u001b[0;34m,\u001b[0m \u001b[0msim_type\u001b[0m\u001b[0;34m,\u001b[0m \u001b[0;34m'AUPR'\u001b[0m\u001b[0;34m,\u001b[0m \u001b[0mAUPR\u001b[0m\u001b[0;34m)\u001b[0m\u001b[0;34m\u001b[0m\u001b[0;34m\u001b[0m\u001b[0m\n\u001b[1;32m      4\u001b[0m     \u001b[0mdf\u001b[0m \u001b[0;34m=\u001b[0m \u001b[0mupdateSimilarityDFSingleMetric\u001b[0m\u001b[0;34m(\u001b[0m\u001b[0mdf\u001b[0m\u001b[0;34m,\u001b[0m \u001b[0msim_type\u001b[0m\u001b[0;34m,\u001b[0m \u001b[0;34m'F-measure'\u001b[0m\u001b[0;34m,\u001b[0m \u001b[0mF1\u001b[0m\u001b[0;34m)\u001b[0m\u001b[0;34m\u001b[0m\u001b[0;34m\u001b[0m\u001b[0m\n\u001b[1;32m      5\u001b[0m     \u001b[0mdf\u001b[0m \u001b[0;34m=\u001b[0m \u001b[0mupdateSimilarityDFSingleMetric\u001b[0m\u001b[0;34m(\u001b[0m\u001b[0mdf\u001b[0m\u001b[0;34m,\u001b[0m \u001b[0msim_type\u001b[0m\u001b[0;34m,\u001b[0m \u001b[0;34m'Recall'\u001b[0m\u001b[0;34m,\u001b[0m \u001b[0mRec\u001b[0m\u001b[0;34m)\u001b[0m\u001b[0;34m\u001b[0m\u001b[0;34m\u001b[0m\u001b[0m\n",
      "\u001b[0;31mNameError\u001b[0m: name 'updateSimilarityDFSingleMetric' is not defined"
     ]
    }
   ],
   "source": [
    "do_prepare_data = False\n",
    "do_train_model = True\n",
    "kfold_nsplits = 5\n",
    "# similaritiesToRun = df_paperIndividualScores['Similarity']\n",
    "similaritiesToRun = [\"sideeffect\"]\n",
    "sigmoid = torch.nn.Sigmoid()\n",
    "\n",
    "for similarity in similaritiesToRun:\n",
    "    input_fea = pathInput+DS1_path+\"/\" + similarity + \"_Jacarrd_sim.csv\"\n",
    "    input_lab = pathInput+DS1_path+\"/drug_drug_matrix.csv\"\n",
    "    dataPicklePath = pathPickles+\"data_X_y_\" + similarity + \"_Jaccard.p\"\n",
    "\n",
    "    # Define model\n",
    "    D_in, H1, H2, D_out, drop = X.shape[1], 300, 400, 1, 0.5\n",
    "    str_hidden_layers_params = \"-H1-\" + str(H1) + \"-H2-\" + str(H2)\n",
    "    callbacks = []\n",
    "    \n",
    "    # Prepare data if not available\n",
    "    if do_prepare_data:\n",
    "        print(\"Preparing \" + similarity + \" data...\")\n",
    "        X,y = prepare_data(input_fea, input_lab, seperate = False)\n",
    "\n",
    "        with open(dataPicklePath, 'wb') as f:\n",
    "            pickle.dump([X, y], f)\n",
    "\n",
    "    # Load X,y and split in to train, test\n",
    "    with open(dataPicklePath, 'rb') as f:\n",
    "        X, y = pickle.load(f)\n",
    "    \n",
    "\n",
    "    y = np.reshape(y, (y.shape[0], 1))\n",
    "\n",
    "    \n",
    "    X = X.astype(np.float32)\n",
    "    y = y.astype(np.float32)   \n",
    "\n",
    "    \n",
    "#     y_cat = np_utils.to_categorical(y)\n",
    "    \n",
    "    AUROC, AUPR, F1, Rec, Prec = 0,0,0,0,0\n",
    "    kFoldSplit = getStratifiedKFoldSplit(X,y,n_splits=kfold_nsplits)\n",
    "    for i, indices in enumerate(kFoldSplit):\n",
    "        print(\"Running fold\" + str(i) + \" for \" + similarity +\"...\")\n",
    "        \n",
    "        train_index = indices[0]\n",
    "        test_index = indices[1]\n",
    "        X_train, X_test = X[train_index], X[test_index]\n",
    "        y_train, y_test = y[train_index], y[test_index]\n",
    "#         y_train, y_test = y_cat[train_index], y_cat[test_index]\n",
    "    \n",
    "        # Create Network Classifier\n",
    "        Xy_test = skorch.dataset.Dataset(X_test, y_test)\n",
    "        net = getNDDClassifier(D_in, H1, H2, D_out, drop, Xy_test)\n",
    "        \n",
    "        # Fit and save OR load model\n",
    "        modelPicklePath = pathPickles+\"model_params/model_params_fold\" + str(i) + \"_\" + str_hidden_layers_params+ \"_\" + similarity + \".p\"\n",
    "        if do_train_model:\n",
    "            net.fit(X_train, y_train)\n",
    "            net.save_params(f_params=modelPicklePath)\n",
    "        else:\n",
    "            net.initialize()  # This is important!\n",
    "            net.load_params(f_params=modelPicklePath)\n",
    "\n",
    "        # Make predictions\n",
    "        y_pred = net.predict(X_test)\n",
    "        lr_probs = sigmoid(net.forward(X_test))\n",
    "        lr_precision, lr_recall, _ = precision_recall_curve(y_test, lr_probs)\n",
    "\n",
    "        AUROC += roc_auc_score(y_test, y_pred)\n",
    "        AUPR += auc(lr_recall, lr_precision)\n",
    "        F1 += f1_score(y_test, y_pred)\n",
    "        Rec += recall_score(y_test, y_pred)\n",
    "        Prec += precision_score(y_test, y_pred)\n",
    "        \n",
    "        print(i, similarity, AUROC, AUPR, F1, Rec, Prec)\n",
    "        \n",
    "    \n",
    "    AUROC, AUPR, F1, Rec, Prec = avgMetrics(AUROC, AUPR, F1, Rec, Prec, kfold_nsplits)\n",
    "    print(similarity, AUROC, AUPR, F1, Rec, Prec)\n",
    "    \n",
    "    # Fill replicated metrics\n",
    "    updateSimilarityDF(df_replicatedIndividualScores, similarity, AUROC, AUPR, F1, Rec, Prec)\n",
    "    \n",
    "# Write CSV\n",
    "writeReplicatedIndividualScoresCSV(net, df_replicatedIndividualScores, pathRuns, str_hidden_layers_params)"
   ]
  },
  {
   "cell_type": "code",
   "execution_count": 66,
   "metadata": {},
   "outputs": [
    {
     "data": {
      "text/plain": [
       "(array([0]), array([29975]))"
      ]
     },
     "execution_count": 66,
     "metadata": {},
     "output_type": "execute_result"
    }
   ],
   "source": [
    "np.unique(y_pred, return_counts=True)"
   ]
  },
  {
   "cell_type": "code",
   "execution_count": 64,
   "metadata": {},
   "outputs": [
    {
     "data": {
      "text/plain": [
       "(array([0., 1.], dtype=float32), array([20259,  9716]))"
      ]
     },
     "execution_count": 64,
     "metadata": {},
     "output_type": "execute_result"
    }
   ],
   "source": []
  },
  {
   "cell_type": "code",
   "execution_count": 56,
   "metadata": {},
   "outputs": [
    {
     "data": {
      "text/html": [
       "<div>\n",
       "<style scoped>\n",
       "    .dataframe tbody tr th:only-of-type {\n",
       "        vertical-align: middle;\n",
       "    }\n",
       "\n",
       "    .dataframe tbody tr th {\n",
       "        vertical-align: top;\n",
       "    }\n",
       "\n",
       "    .dataframe thead th {\n",
       "        text-align: right;\n",
       "    }\n",
       "</style>\n",
       "<table border=\"1\" class=\"dataframe\">\n",
       "  <thead>\n",
       "    <tr style=\"text-align: right;\">\n",
       "      <th></th>\n",
       "      <th>Similarity</th>\n",
       "      <th>AUC</th>\n",
       "      <th>AUPR</th>\n",
       "      <th>F-measure</th>\n",
       "      <th>Recall</th>\n",
       "      <th>Precision</th>\n",
       "    </tr>\n",
       "  </thead>\n",
       "  <tbody>\n",
       "    <tr>\n",
       "      <th>0</th>\n",
       "      <td>chem</td>\n",
       "      <td>0.0</td>\n",
       "      <td>0.000</td>\n",
       "      <td>0.0</td>\n",
       "      <td>0.0</td>\n",
       "      <td>0.0</td>\n",
       "    </tr>\n",
       "    <tr>\n",
       "      <th>1</th>\n",
       "      <td>target</td>\n",
       "      <td>0.0</td>\n",
       "      <td>0.000</td>\n",
       "      <td>0.0</td>\n",
       "      <td>0.0</td>\n",
       "      <td>0.0</td>\n",
       "    </tr>\n",
       "    <tr>\n",
       "      <th>2</th>\n",
       "      <td>transporter</td>\n",
       "      <td>0.0</td>\n",
       "      <td>0.000</td>\n",
       "      <td>0.0</td>\n",
       "      <td>0.0</td>\n",
       "      <td>0.0</td>\n",
       "    </tr>\n",
       "    <tr>\n",
       "      <th>3</th>\n",
       "      <td>enzyme</td>\n",
       "      <td>0.0</td>\n",
       "      <td>0.000</td>\n",
       "      <td>0.0</td>\n",
       "      <td>0.0</td>\n",
       "      <td>0.0</td>\n",
       "    </tr>\n",
       "    <tr>\n",
       "      <th>4</th>\n",
       "      <td>pathway</td>\n",
       "      <td>0.0</td>\n",
       "      <td>0.000</td>\n",
       "      <td>0.0</td>\n",
       "      <td>0.0</td>\n",
       "      <td>0.0</td>\n",
       "    </tr>\n",
       "    <tr>\n",
       "      <th>5</th>\n",
       "      <td>indication</td>\n",
       "      <td>0.0</td>\n",
       "      <td>0.000</td>\n",
       "      <td>0.0</td>\n",
       "      <td>0.0</td>\n",
       "      <td>0.0</td>\n",
       "    </tr>\n",
       "    <tr>\n",
       "      <th>6</th>\n",
       "      <td>sideeffect</td>\n",
       "      <td>0.5</td>\n",
       "      <td>0.549</td>\n",
       "      <td>0.0</td>\n",
       "      <td>0.0</td>\n",
       "      <td>0.0</td>\n",
       "    </tr>\n",
       "    <tr>\n",
       "      <th>7</th>\n",
       "      <td>offsideeffect</td>\n",
       "      <td>0.0</td>\n",
       "      <td>0.000</td>\n",
       "      <td>0.0</td>\n",
       "      <td>0.0</td>\n",
       "      <td>0.0</td>\n",
       "    </tr>\n",
       "  </tbody>\n",
       "</table>\n",
       "</div>"
      ],
      "text/plain": [
       "      Similarity  AUC   AUPR  F-measure  Recall  Precision\n",
       "0           chem  0.0  0.000        0.0     0.0        0.0\n",
       "1         target  0.0  0.000        0.0     0.0        0.0\n",
       "2    transporter  0.0  0.000        0.0     0.0        0.0\n",
       "3         enzyme  0.0  0.000        0.0     0.0        0.0\n",
       "4        pathway  0.0  0.000        0.0     0.0        0.0\n",
       "5     indication  0.0  0.000        0.0     0.0        0.0\n",
       "6     sideeffect  0.5  0.549        0.0     0.0        0.0\n",
       "7  offsideeffect  0.0  0.000        0.0     0.0        0.0"
      ]
     },
     "execution_count": 56,
     "metadata": {},
     "output_type": "execute_result"
    }
   ],
   "source": [
    "updateSimilarityDF(df_replicatedIndividualScores, similarity, AUROC, AUPR, F1, Rec, Prec)\n"
   ]
  },
  {
   "cell_type": "markdown",
   "metadata": {},
   "source": [
    "# Compare to Paper"
   ]
  },
  {
   "cell_type": "code",
   "execution_count": 59,
   "metadata": {
    "scrolled": true
   },
   "outputs": [
    {
     "name": "stdout",
     "output_type": "stream",
     "text": [
      "      Similarity    AUC   AUPR  F-measure  Recall  Precision\n",
      "0           chem  0.631  0.455      0.527   0.899      0.373\n",
      "1         target  0.787  0.642      0.617   0.721      0.540\n",
      "2    transporter  0.682  0.568      0.519   0.945      0.358\n",
      "3         enzyme  0.734  0.599      0.552   0.579      0.529\n",
      "4        pathway  0.767  0.623      0.587   0.650      0.536\n",
      "5     indication  0.802  0.654      0.632   0.740      0.551\n",
      "6     sideeffect  0.778  0.601      0.619   0.748      0.528\n",
      "7  offsideeffect  0.782  0.606      0.617   0.764      0.517\n"
     ]
    }
   ],
   "source": [
    "print(df_paperIndividualScores)"
   ]
  },
  {
   "cell_type": "code",
   "execution_count": null,
   "metadata": {},
   "outputs": [],
   "source": [
    "print(df_replicatedIndividualScores)"
   ]
  },
  {
   "cell_type": "code",
   "execution_count": 57,
   "metadata": {
    "scrolled": false
   },
   "outputs": [],
   "source": [
    "diff_metrics = ['AUC', 'AUPR', 'F-measure', 'Recall', 'Precision']\n",
    "df_diff = df_paperIndividualScores[diff_metrics] - df_replicatedIndividualScores[diff_metrics]\n",
    "df_diff_abs = df_diff.abs()\n",
    "df_diff_percent = (df_diff_abs / df_paperIndividualScores[diff_metrics]) * 100"
   ]
  },
  {
   "cell_type": "code",
   "execution_count": 58,
   "metadata": {},
   "outputs": [
    {
     "data": {
      "text/html": [
       "<div>\n",
       "<style scoped>\n",
       "    .dataframe tbody tr th:only-of-type {\n",
       "        vertical-align: middle;\n",
       "    }\n",
       "\n",
       "    .dataframe tbody tr th {\n",
       "        vertical-align: top;\n",
       "    }\n",
       "\n",
       "    .dataframe thead th {\n",
       "        text-align: right;\n",
       "    }\n",
       "</style>\n",
       "<table border=\"1\" class=\"dataframe\">\n",
       "  <thead>\n",
       "    <tr style=\"text-align: right;\">\n",
       "      <th></th>\n",
       "      <th>AUC</th>\n",
       "      <th>AUPR</th>\n",
       "      <th>F-measure</th>\n",
       "      <th>Recall</th>\n",
       "      <th>Precision</th>\n",
       "    </tr>\n",
       "  </thead>\n",
       "  <tbody>\n",
       "    <tr>\n",
       "      <th>0</th>\n",
       "      <td>0.631</td>\n",
       "      <td>0.455</td>\n",
       "      <td>0.527</td>\n",
       "      <td>0.899</td>\n",
       "      <td>0.373</td>\n",
       "    </tr>\n",
       "    <tr>\n",
       "      <th>1</th>\n",
       "      <td>0.787</td>\n",
       "      <td>0.642</td>\n",
       "      <td>0.617</td>\n",
       "      <td>0.721</td>\n",
       "      <td>0.540</td>\n",
       "    </tr>\n",
       "    <tr>\n",
       "      <th>2</th>\n",
       "      <td>0.682</td>\n",
       "      <td>0.568</td>\n",
       "      <td>0.519</td>\n",
       "      <td>0.945</td>\n",
       "      <td>0.358</td>\n",
       "    </tr>\n",
       "    <tr>\n",
       "      <th>3</th>\n",
       "      <td>0.734</td>\n",
       "      <td>0.599</td>\n",
       "      <td>0.552</td>\n",
       "      <td>0.579</td>\n",
       "      <td>0.529</td>\n",
       "    </tr>\n",
       "    <tr>\n",
       "      <th>4</th>\n",
       "      <td>0.767</td>\n",
       "      <td>0.623</td>\n",
       "      <td>0.587</td>\n",
       "      <td>0.650</td>\n",
       "      <td>0.536</td>\n",
       "    </tr>\n",
       "    <tr>\n",
       "      <th>5</th>\n",
       "      <td>0.802</td>\n",
       "      <td>0.654</td>\n",
       "      <td>0.632</td>\n",
       "      <td>0.740</td>\n",
       "      <td>0.551</td>\n",
       "    </tr>\n",
       "    <tr>\n",
       "      <th>6</th>\n",
       "      <td>0.278</td>\n",
       "      <td>0.052</td>\n",
       "      <td>0.619</td>\n",
       "      <td>0.748</td>\n",
       "      <td>0.528</td>\n",
       "    </tr>\n",
       "    <tr>\n",
       "      <th>7</th>\n",
       "      <td>0.782</td>\n",
       "      <td>0.606</td>\n",
       "      <td>0.617</td>\n",
       "      <td>0.764</td>\n",
       "      <td>0.517</td>\n",
       "    </tr>\n",
       "  </tbody>\n",
       "</table>\n",
       "</div>"
      ],
      "text/plain": [
       "     AUC   AUPR  F-measure  Recall  Precision\n",
       "0  0.631  0.455      0.527   0.899      0.373\n",
       "1  0.787  0.642      0.617   0.721      0.540\n",
       "2  0.682  0.568      0.519   0.945      0.358\n",
       "3  0.734  0.599      0.552   0.579      0.529\n",
       "4  0.767  0.623      0.587   0.650      0.536\n",
       "5  0.802  0.654      0.632   0.740      0.551\n",
       "6  0.278  0.052      0.619   0.748      0.528\n",
       "7  0.782  0.606      0.617   0.764      0.517"
      ]
     },
     "execution_count": 58,
     "metadata": {},
     "output_type": "execute_result"
    }
   ],
   "source": [
    "df_diff"
   ]
  },
  {
   "cell_type": "code",
   "execution_count": null,
   "metadata": {},
   "outputs": [],
   "source": [
    "from seaborn import heatmap\n",
    "heatmap(df_diff, yticklabels=df_paperIndividualScores[\"Similarity\"])"
   ]
  },
  {
   "cell_type": "code",
   "execution_count": null,
   "metadata": {},
   "outputs": [],
   "source": [
    "heatmap(df_diff_abs, yticklabels=df_paperIndividualScores[\"Similarity\"])"
   ]
  },
  {
   "cell_type": "code",
   "execution_count": null,
   "metadata": {},
   "outputs": [],
   "source": [
    "heatmap(df_diff_percent, yticklabels=df_paperIndividualScores[\"Similarity\"])"
   ]
  },
  {
   "cell_type": "code",
   "execution_count": null,
   "metadata": {},
   "outputs": [],
   "source": [
    "from sklearn.metrics import mean_squared_error\n",
    "mean_squared_error(df_paperIndividualScores[diff_metrics],\n",
    "                   df_replicatedIndividualScores[diff_metrics])"
   ]
  },
  {
   "cell_type": "code",
   "execution_count": null,
   "metadata": {},
   "outputs": [],
   "source": []
  }
 ],
 "metadata": {
  "kernelspec": {
   "display_name": "Python 3",
   "language": "python",
   "name": "python3"
  },
  "language_info": {
   "codemirror_mode": {
    "name": "ipython",
    "version": 3
   },
   "file_extension": ".py",
   "mimetype": "text/x-python",
   "name": "python",
   "nbconvert_exporter": "python",
   "pygments_lexer": "ipython3",
   "version": "3.7.3"
  }
 },
 "nbformat": 4,
 "nbformat_minor": 2
}
